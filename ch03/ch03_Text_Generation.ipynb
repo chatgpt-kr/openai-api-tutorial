{
 "cells": [
  {
   "cell_type": "markdown",
   "metadata": {},
   "source": [
    "# 기본 정보 입력\n",
    "- pip install openai"
   ]
  },
  {
   "cell_type": "code",
   "execution_count": 2,
   "metadata": {},
   "outputs": [],
   "source": [
    "# 패키지 불러오기\n",
    "import openai"
   ]
  },
  {
   "cell_type": "code",
   "execution_count": 3,
   "metadata": {},
   "outputs": [],
   "source": [
    "# API 키 지정하여 클라이언트 선언하기\n",
    "OPENAI_API_KEY=\"API_KEY\"\n",
    "\n",
    "\n",
    "client = openai.OpenAI(api_key = OPENAI_API_KEY)\n",
    "\n",
    "# client = openai.OpenAI(api_key = \"여기에 API 키를 넣어주세요\")"
   ]
  },
  {
   "cell_type": "markdown",
   "metadata": {},
   "source": [
    "# Text generation\n"
   ]
  },
  {
   "cell_type": "markdown",
   "metadata": {},
   "source": [
    "- id (string): 채팅 완성에 대한 고유 식별자입니다. 모델에 의해 생성된 각 완성은 구별되는 ID를 가지며, 특정 응답을 추적하거나 참조하는 데 유용할 수 있습니다.\n",
    "\n",
    "- choices (array): 모델이 제공하는 다양한 응답들을 포함하는 채팅 완성 선택 목록입니다. 요청의 'n' 매개변수가 1보다 크면 이 배열에는 모델이 생성한 여러 가지 가능한 완성이 포함될 수 있습니다.이 배열 내의 각 선택에는 완성의 텍스트와 기타 관련 데이터와 같은 추가 속성들이 포함됩니다.\n",
    "\n",
    "- created (integer): 채팅 완성이 생성된 시점의 유닉스 타임스탬프(초 단위)를 나타냅니다. 이는 응답이 생성된 정확한 시간을 결정하는 데 도움이 됩니다.\n",
    "\n",
    "- model (string): 채팅 완성을 생성하는 데 사용된 특정 모델을 지정합니다. 다른 모델들은 다양한 능력이나 스타일을 가지고 있을 수 있으며, 이 필드는 응답을 위해 사용된 모델을 나타냅니다.\n",
    "\n",
    "- system_fingerprint (string): 이 지문은 모델이 실행되는 백엔드 구성을 나타냅니다. 반응의 결정론에 영향을 줄 수 있는 백엔드 변경 사항을 이해하기 위해 'seed' 요청 매개변수와 함께 사용될 수 있습니다.\n",
    "\n",
    "- object (string): API에서 반환하는 객체의 유형을 나타내는 필드입니다. 채팅 완성의 경우에는 항상 'chat.completion'이 될 것이며, 응답 객체의 성격을 확인합니다.\n",
    "\n",
    "- usage (object): 완성 요청에 대한 사용 통계를 포함하는 객체입니다. 응답 생성에 사용된 토큰 수와 같은 정보를 포함할 수 있습니다. 이는 API 사용을 추적하고 요청과 관련된 비용을 이해하는 데 특히 유용합니다."
   ]
  },
  {
   "cell_type": "markdown",
   "metadata": {},
   "source": [
    "## 기본 질문하기"
   ]
  },
  {
   "cell_type": "code",
   "execution_count": 4,
   "metadata": {},
   "outputs": [
    {
     "name": "stdout",
     "output_type": "stream",
     "text": [
      "ChatCompletion(id='chatcmpl-9Ab0UkZyc80cPz560EDAC3HH4pso3', choices=[Choice(finish_reason='stop', index=0, logprobs=None, message=ChatCompletionMessage(content='To make a pizza, you will need the following ingredients:\\n\\n- Pizza dough\\n- Tomato sauce\\n- Cheese\\n- Toppings of your choice (such as pepperoni, mushrooms, bell peppers, onions, etc.)\\n\\nHere are the steps to make a pizza:\\n\\n1. Preheat your oven to the temperature specified on the pizza dough packaging.\\n2. Roll out the pizza dough on a floured surface to your desired thickness.\\n3. Spread a layer of tomato sauce evenly over the dough, leaving a little space around the edges for the crust.\\n4. Sprinkle cheese over the sauce, and then add your desired toppings.\\n5. Place the pizza on a baking sheet or pizza stone and bake in the preheated oven for the amount of time specified on the dough packaging, usually around 10-15 minutes.\\n6. Once the pizza is cooked through and the cheese is melted and bubbly, carefully remove it from the oven.\\n7. Let the pizza cool for a few minutes before slicing and serving.\\n\\nEnjoy your homemade pizza!', role='assistant', function_call=None, tool_calls=None))], created=1712312562, model='gpt-3.5-turbo-0125', object='chat.completion', system_fingerprint='fp_b28b39ffa8', usage=CompletionUsage(completion_tokens=210, prompt_tokens=14, total_tokens=224))\n"
     ]
    }
   ],
   "source": [
    "response = client.chat.completions.create(\n",
    "  model=\"gpt-3.5-turbo\",\n",
    "  messages=[{\"role\": \"user\", \"content\": \"Tell me how to make a pizza\"}])\n",
    "\n",
    "print(response) "
   ]
  },
  {
   "cell_type": "code",
   "execution_count": 5,
   "metadata": {},
   "outputs": [
    {
     "name": "stdout",
     "output_type": "stream",
     "text": [
      "To make a pizza, you will need the following ingredients:\n",
      "\n",
      "- Pizza dough\n",
      "- Tomato sauce\n",
      "- Cheese\n",
      "- Toppings of your choice (such as pepperoni, mushrooms, bell peppers, onions, etc.)\n",
      "\n",
      "Here are the steps to make a pizza:\n",
      "\n",
      "1. Preheat your oven to the temperature specified on the pizza dough packaging.\n",
      "2. Roll out the pizza dough on a floured surface to your desired thickness.\n",
      "3. Spread a layer of tomato sauce evenly over the dough, leaving a little space around the edges for the crust.\n",
      "4. Sprinkle cheese over the sauce, and then add your desired toppings.\n",
      "5. Place the pizza on a baking sheet or pizza stone and bake in the preheated oven for the amount of time specified on the dough packaging, usually around 10-15 minutes.\n",
      "6. Once the pizza is cooked through and the cheese is melted and bubbly, carefully remove it from the oven.\n",
      "7. Let the pizza cool for a few minutes before slicing and serving.\n",
      "\n",
      "Enjoy your homemade pizza!\n"
     ]
    }
   ],
   "source": [
    "print(response.choices[0].message.content)"
   ]
  },
  {
   "cell_type": "markdown",
   "metadata": {},
   "source": [
    "## 사용 요금 계산하기"
   ]
  },
  {
   "cell_type": "markdown",
   "metadata": {},
   "source": [
    "- 1k 토큰 당 비용\n",
    "\n",
    "|Model|Input|Output|\n",
    "|---|---|---|\n",
    "|gpt-4|$0.03|$0.06|\n",
    "|gpt-4-32k|$0.06|$0.12|\n",
    "|gpt-4-turbo|$0.01|$0.03|\n",
    "|gpt-3.5-turbo|$0.001|$0.002|\n",
    "|gpt-3.5-turbo-instruct|$0.0015|$0.002|"
   ]
  },
  {
   "cell_type": "code",
   "execution_count": 6,
   "metadata": {},
   "outputs": [
    {
     "name": "stdout",
     "output_type": "stream",
     "text": [
      "CompletionUsage(completion_tokens=210, prompt_tokens=14, total_tokens=224)\n"
     ]
    }
   ],
   "source": [
    "print(response.usage)"
   ]
  },
  {
   "cell_type": "code",
   "execution_count": 16,
   "metadata": {},
   "outputs": [
    {
     "data": {
      "text/plain": [
       "14"
      ]
     },
     "execution_count": 16,
     "metadata": {},
     "output_type": "execute_result"
    }
   ],
   "source": [
    "response.usage.prompt_tokens"
   ]
  },
  {
   "cell_type": "code",
   "execution_count": 8,
   "metadata": {},
   "outputs": [
    {
     "name": "stdout",
     "output_type": "stream",
     "text": [
      "총 소모 비용 : 0.56630056 원\n"
     ]
    }
   ],
   "source": [
    "total_bill_USD = (response.usage.completion_tokens*0.002 +response.usage.prompt_tokens*0.001)/1000\n",
    "# 23.11.27 기준 환율 1USD = 1304.84 KRW\n",
    "total_bill_KRW = total_bill_USD*1304.84\n",
    "print(\"총 소모 비용 : {} 원\".format(total_bill_KRW))"
   ]
  },
  {
   "cell_type": "markdown",
   "metadata": {},
   "source": [
    "## 역할 부여하기"
   ]
  },
  {
   "cell_type": "code",
   "execution_count": 20,
   "metadata": {},
   "outputs": [
    {
     "name": "stdout",
     "output_type": "stream",
     "text": [
      "The Los Angeles Dodgers won the 2020 World Series.\n"
     ]
    }
   ],
   "source": [
    "response = client.chat.completions.create(\n",
    " model=\"gpt-3.5-turbo\",\n",
    " messages=[\n",
    " {\"role\": \"system\", \"You must only answer users' questions in English. This must be honored. You must only answer in English.\"},\n",
    " {\"role\": \"user\", \"content\": \"2020년 월드시리즈에서는 누가 우승했어?\"}\n",
    " ]\n",
    ")\n",
    "print(response.choices[0].message.content)"
   ]
  },
  {
   "cell_type": "code",
   "execution_count": null,
   "metadata": {},
   "outputs": [],
   "source": [
    "response = client.chat.completions.create(\n",
    "model=\"gpt-3.5-turbo\",\n",
    "messages=[\n",
    "{\"role\": \"system\", \"content\": \"You are a translator that translates users' inputs. If the input is in Korean, it must be translated into English. This must be strictly adhered to.\"},\n",
    "{\"role\": \"user\", \"content\": \"2020년 월드시리즈에서는 누가 우승했어?\"}]\n",
    " )\n",
    "print(response.choices[0].message.content)\n"
   ]
  },
  {
   "cell_type": "markdown",
   "metadata": {},
   "source": [
    "## 이어서 질문하기"
   ]
  },
  {
   "cell_type": "code",
   "execution_count": 23,
   "metadata": {},
   "outputs": [
    {
     "name": "stdout",
     "output_type": "stream",
     "text": [
      "The World Series in 2020 was played at Globe Life Field in Arlington, Texas.\n"
     ]
    }
   ],
   "source": [
    "response = client.chat.completions.create(\n",
    "  model=\"gpt-3.5-turbo\",\n",
    "  messages=[\n",
    "    {\"role\": \"system\", \"content\": \"You are a helpful assistant.\"},\n",
    "    {\"role\": \"user\", \"content\": \"Who won the world series in 2020?\"},\n",
    "    {\"role\": \"assistant\", \"content\": \"The Los Angeles Dodgers won the World Series in 2020.\"},\n",
    "    {\"role\": \"user\", \"content\": \"Where was it played?\"}\n",
    "  ]\n",
    ")\n",
    "print(response.choices[0].message.content)"
   ]
  }
 ],
 "metadata": {
  "kernelspec": {
   "display_name": "ch03",
   "language": "python",
   "name": "python3"
  },
  "language_info": {
   "codemirror_mode": {
    "name": "ipython",
    "version": 3
   },
   "file_extension": ".py",
   "mimetype": "text/x-python",
   "name": "python",
   "nbconvert_exporter": "python",
   "pygments_lexer": "ipython3",
   "version": "3.11.0"
  }
 },
 "nbformat": 4,
 "nbformat_minor": 2
}
