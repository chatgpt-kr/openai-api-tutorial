{
 "cells": [
  {
   "cell_type": "markdown",
   "metadata": {},
   "source": [
    "# 기본 정보 입력"
   ]
  },
  {
   "cell_type": "code",
   "execution_count": 1,
   "metadata": {},
   "outputs": [],
   "source": [
    "# 패키지 불러오기\n",
    "import openai\n",
    "import yfinance as yf\n",
    "import json\n"
   ]
  },
  {
   "cell_type": "markdown",
   "metadata": {},
   "source": [
    "# Custom Functions 생성"
   ]
  },
  {
   "cell_type": "code",
   "execution_count": 2,
   "metadata": {},
   "outputs": [],
   "source": [
    "def get_stock_price(symbol):\n",
    "    stock = yf.Ticker(symbol)\n",
    "    price = stock.info['currentPrice']\n",
    "    return price"
   ]
  },
  {
   "cell_type": "code",
   "execution_count": 3,
   "metadata": {},
   "outputs": [],
   "source": [
    "def get_latest_company_news(symbol):\n",
    "    stock = yf.Ticker(symbol)\n",
    "    news = stock.news\n",
    "    # 최신 뉴스 3개 리스트에 저장하기\n",
    "    news_list = []\n",
    "    num =1\n",
    "    for item in news[:3]:\n",
    "        news_list.append(f\"{num}: title : \"+item['title']+\", publisher :\"+item['publisher']+\", link :\"+item['link'])\n",
    "        num+=1\n",
    "    return news_list"
   ]
  },
  {
   "cell_type": "code",
   "execution_count": 4,
   "metadata": {},
   "outputs": [],
   "source": [
    "tools_list = [\n",
    "    {\n",
    "        \"type\": \"function\",\n",
    "        \"function\": {\n",
    "            \"name\": \"get_stock_price\",\n",
    "            \"description\": \"Retrieve the latest closing price of a stock using its ticker symbol\",\n",
    "            \"parameters\": {\n",
    "                \"type\": \"object\",\n",
    "                \"properties\": {\n",
    "                    \"symbol\": {\n",
    "                        \"type\": \"string\",\n",
    "                        \"description\": \"The ticker symbol of the stock\"\n",
    "                    }\n",
    "                },\n",
    "                \"required\": [\"symbol\"]\n",
    "            }\n",
    "        }\n",
    "    },\n",
    "    {\n",
    "        \"type\": \"function\",\n",
    "        \"function\": {\n",
    "            \"name\": \"get_latest_company_news\",\n",
    "            \"description\": \"Fetches the latest news articles related to a specified company\",\n",
    "            \"parameters\": {\n",
    "                \"type\": \"object\",\n",
    "                \"properties\": {\n",
    "                    \"symbol\": {\n",
    "                        \"type\": \"string\",\n",
    "                        \"description\": \"The ticker symbol of the stock\"\n",
    "                    }\n",
    "                },\n",
    "                \"required\": [\"symbol\"]\n",
    "            }\n",
    "        }\n",
    "    }\n",
    "]"
   ]
  },
  {
   "cell_type": "markdown",
   "metadata": {},
   "source": [
    "# Create Assistant\n",
    "- instructions: 어시스턴트와 모델이 어떻게 행동하거나 응답해야 하는지 알려줍니다.\n",
    "- model: 미세 조정된 모델을 포함하여 모든 GPT-3.5 또는 GPT-4 모델을 지정할 수 있습니다. 검색 도구에는 gpt-3.5-turbo-1106 및 gpt-4-1106-preview 모델이 필요합니다.\n",
    "- tools: API는 OpenAI에서 빌드 및 호스팅하는 코드 인터프리터와 웹 검색을 지원합니다. 또한 함수 호출 기능과 유사한 동작으로 사용자 정의 함수 서명을 정의할 수 있습니다\n"
   ]
  },
  {
   "cell_type": "code",
   "execution_count": 5,
   "metadata": {},
   "outputs": [],
   "source": [
    "# API 키 지정하여 클라이언트 선언하기\n",
    "OPENAI_API_KEY=\"API_KEY\"\n",
    "client = openai.OpenAI(api_key = OPENAI_API_KEY)"
   ]
  },
  {
   "cell_type": "code",
   "execution_count": 6,
   "metadata": {},
   "outputs": [
    {
     "name": "stdout",
     "output_type": "stream",
     "text": [
      "asst_2kZK6KVTSwKpY8o7KKwAz9ik\n"
     ]
    }
   ],
   "source": [
    "instruction = '''\n",
    "너는 주식 분석 전문가야\n",
    "\n",
    "규칙:\n",
    "1. 사용자가 회사 또는 종목에 대해 물어보면, function을 활용해서 회사의 주식 가격과 최신 뉴스를 답해줘.\n",
    "2. 모든 답변은 한국어로 합니다..\n",
    "'''\n",
    "\n",
    "# Add the file to the assistant\n",
    "assistant = client.beta.assistants.create(\n",
    "  name = \"Company Stock Analyst\",\n",
    "  instructions=instruction,\n",
    "  model=\"gpt-3.5-turbo\",\n",
    "  tools=tools_list,\n",
    ")\n",
    "\n",
    "print(assistant.id)"
   ]
  },
  {
   "cell_type": "code",
   "execution_count": 18,
   "metadata": {},
   "outputs": [
    {
     "name": "stdout",
     "output_type": "stream",
     "text": [
      "Assistant(id='asst_3EgCcFCcsSYK2twUhDpGm0hH', created_at=1710855525, description=None, file_ids=[], instructions=\"\\nYou are a company stock analyst\\n\\nRules:\\n1. When a user asks about a company, answer them using the company's stock price and recent news.\\n2. answer all questions in Korean.\\n\", metadata={}, model='gpt-3.5-turbo-1106', name='Company Stock Analyst', object='assistant', tools=[ToolFunction(function=FunctionDefinition(name='get_stock_price', description='Retrieve the latest closing price of a stock using its ticker symbol', parameters={'type': 'object', 'properties': {'symbol': {'type': 'string', 'description': 'The ticker symbol of the stock'}}, 'required': ['symbol']}), type='function'), ToolFunction(function=FunctionDefinition(name='get_latest_company_news', description='Fetches the latest news articles related to a specified company', parameters={'type': 'object', 'properties': {'symbol': {'type': 'string', 'description': 'The ticker symbol of the stock'}}, 'required': ['symbol']}), type='function')])\n"
     ]
    }
   ],
   "source": [
    "print(assistant)"
   ]
  },
  {
   "cell_type": "markdown",
   "metadata": {},
   "source": [
    "# Tread"
   ]
  },
  {
   "cell_type": "markdown",
   "metadata": {},
   "source": [
    "## Tread 생성하기"
   ]
  },
  {
   "cell_type": "code",
   "execution_count": 7,
   "metadata": {},
   "outputs": [
    {
     "name": "stdout",
     "output_type": "stream",
     "text": [
      "Thread(id='thread_PgRjGhEk1PgyYcKCekmThpFh', created_at=1711010060, metadata={}, object='thread')\n"
     ]
    }
   ],
   "source": [
    "thread = client.beta.threads.create()\n",
    "print(thread)"
   ]
  },
  {
   "cell_type": "markdown",
   "metadata": {},
   "source": [
    "## Tread 에 메세지 넣기"
   ]
  },
  {
   "cell_type": "code",
   "execution_count": 8,
   "metadata": {},
   "outputs": [],
   "source": [
    "message = client.beta.threads.messages.create(\n",
    "    thread_id=thread.id,\n",
    "    role=\"user\",\n",
    "    content=\"테슬라의 최근 주가와 최신 뉴스에 대해 알려줘\"\n",
    ")"
   ]
  },
  {
   "cell_type": "markdown",
   "metadata": {},
   "source": [
    "# Assistant Run 하기"
   ]
  },
  {
   "cell_type": "code",
   "execution_count": 9,
   "metadata": {},
   "outputs": [
    {
     "name": "stdout",
     "output_type": "stream",
     "text": [
      "run_efPUuBlv99i6SSpKieoBfMF5\n"
     ]
    }
   ],
   "source": [
    "run = client.beta.threads.runs.create(\n",
    "  thread_id=thread.id,\n",
    "  assistant_id=assistant.id)\n",
    "\n",
    "print(run.id)"
   ]
  },
  {
   "cell_type": "code",
   "execution_count": 10,
   "metadata": {},
   "outputs": [
    {
     "name": "stdout",
     "output_type": "stream",
     "text": [
      "in_progress\n",
      "requires_action\n"
     ]
    }
   ],
   "source": [
    "import time\n",
    "\n",
    "while run.status not in [\"completed\", \"failed\", \"requires_action\"]:\n",
    "  \n",
    "  run = client.beta.threads.runs.retrieve(\n",
    "    thread_id= thread.id,\n",
    "    run_id= run.id\n",
    "  )\n",
    "  print(run.status)\n",
    "  time.sleep(5)"
   ]
  },
  {
   "cell_type": "code",
   "execution_count": 12,
   "metadata": {},
   "outputs": [
    {
     "data": {
      "text/plain": [
       "[RequiredActionFunctionToolCall(id='call_L0sJQxuuK6zO8GIOzDtt40qm', function=Function(arguments='{\"symbol\": \"TSLA\"}', name='get_stock_price'), type='function'),\n",
       " RequiredActionFunctionToolCall(id='call_0658AeGnppCFPLvbzi7b6iMZ', function=Function(arguments='{\"symbol\": \"TSLA\"}', name='get_latest_company_news'), type='function')]"
      ]
     },
     "execution_count": 12,
     "metadata": {},
     "output_type": "execute_result"
    }
   ],
   "source": [
    "tools_to_call"
   ]
  },
  {
   "cell_type": "code",
   "execution_count": 13,
   "metadata": {},
   "outputs": [
    {
     "ename": "TypeError",
     "evalue": "can only concatenate str (not \"int\") to str",
     "output_type": "error",
     "traceback": [
      "\u001b[1;31m---------------------------------------------------------------------------\u001b[0m",
      "\u001b[1;31mTypeError\u001b[0m                                 Traceback (most recent call last)",
      "Cell \u001b[1;32mIn[13], line 2\u001b[0m\n\u001b[0;32m      1\u001b[0m tools_to_call \u001b[38;5;241m=\u001b[39m run\u001b[38;5;241m.\u001b[39mrequired_action\u001b[38;5;241m.\u001b[39msubmit_tool_outputs\u001b[38;5;241m.\u001b[39mtool_calls\n\u001b[1;32m----> 2\u001b[0m \u001b[38;5;28mprint\u001b[39m(\u001b[38;5;124;43m\"\u001b[39;49m\u001b[38;5;124;43m필요 호출 갯수: \u001b[39;49m\u001b[38;5;124;43m\"\u001b[39;49m\u001b[38;5;241;43m+\u001b[39;49m\u001b[43m \u001b[49m\u001b[38;5;28;43mlen\u001b[39;49m\u001b[43m(\u001b[49m\u001b[43mtools_to_call\u001b[49m\u001b[43m)\u001b[49m)\n\u001b[0;32m      3\u001b[0m \u001b[38;5;28mprint\u001b[39m(tools_to_call)\n",
      "\u001b[1;31mTypeError\u001b[0m: can only concatenate str (not \"int\") to str"
     ]
    }
   ],
   "source": [
    "tools_to_call = run.required_action.submit_tool_outputs.tool_calls\n",
    "print(\"필요 호출 갯수: \"+ len(tools_to_call))\n",
    "print(tools_to_call)"
   ]
  },
  {
   "cell_type": "code",
   "execution_count": 14,
   "metadata": {},
   "outputs": [
    {
     "name": "stdout",
     "output_type": "stream",
     "text": [
      "get_stock_price\n",
      "{\"symbol\": \"TSLA\"}\n",
      "get_latest_company_news\n",
      "{\"symbol\": \"TSLA\"}\n"
     ]
    }
   ],
   "source": [
    "print(tools_to_call[0].function.name)\n",
    "print(tools_to_call[0].function.arguments)\n",
    "print(tools_to_call[1].function.name)\n",
    "print(tools_to_call[1].function.arguments)"
   ]
  },
  {
   "cell_type": "code",
   "execution_count": 15,
   "metadata": {},
   "outputs": [
    {
     "name": "stdout",
     "output_type": "stream",
     "text": [
      "[{'tool_call_id': 'call_L0sJQxuuK6zO8GIOzDtt40qm', 'output': '175.66'}, {'tool_call_id': 'call_0658AeGnppCFPLvbzi7b6iMZ', 'output': '[\"1: title : China\\\\u2019s booming EV market puts these 3 companies on the path to growth. Here\\\\u2019s what sets them apart\\\\u2014and the challenges they have to face, publisher :Fortune, link :https://finance.yahoo.com/news/china-booming-ev-market-puts-230000468.html\", \"2: title : Great News for Tesla Stock Investors!, publisher :Motley Fool, link :https://finance.yahoo.com/m/850755a4-c83e-320b-8c81-21332f747336/great-news-for-tesla-stock.html\", \"3: title : Massive Warning for Rivian, Lucid, and Even Tesla Investors, publisher :Motley Fool, link :https://finance.yahoo.com/m/059639bc-a6eb-3655-bfd2-2a478d6b5342/massive-warning-for-rivian%2C.html\"]'}]\n"
     ]
    }
   ],
   "source": [
    "tools_output_array = []\n",
    "for each_tool in tools_to_call:\n",
    "    tool_call_id = each_tool.id\n",
    "    function_name = each_tool.function.name\n",
    "    function_arg = each_tool.function.arguments\n",
    "    # Json 포맷팅\n",
    "    function_arg = json.loads(each_tool.function.arguments)\n",
    "    if (function_name == 'get_stock_price'):\n",
    "        ## Custom 함수 생성 ##\n",
    "        output=get_stock_price(function_arg[\"symbol\"])\n",
    "    if (function_name == 'get_latest_company_news'):\n",
    "        ## Custom 함수 생성 ##\n",
    "        output=get_latest_company_news(function_arg[\"symbol\"])\n",
    "    tools_output_array.append({\"tool_call_id\": tool_call_id, \"output\": json.dumps(output)})\n",
    "\n",
    "print(tools_output_array)"
   ]
  },
  {
   "cell_type": "code",
   "execution_count": 29,
   "metadata": {},
   "outputs": [
    {
     "data": {
      "text/plain": [
       "[{'tool_call_id': 'call_wmb1RVogXIYZhOgB1eM0TbEO', 'output': '171.27'},\n",
       " {'tool_call_id': 'call_jMzDXblHr8uGMSzjtPZVmQMt',\n",
       "  'output': '[\"1: title : Where Will Tesla Stock Be in 3 Years?, publisher :Motley Fool, link :https://finance.yahoo.com/m/8597e275-3ebc-3402-a126-2e3c0eee4dda/where-will-tesla-stock-be-in.html\", \"2: title : Tesla Stock Is Falling, CEO Elon Musk Gives Revealing Interview. What to Know., publisher :Barrons.com, link :https://finance.yahoo.com/m/28b8d0cd-be77-3922-95fb-0b14878c7a58/tesla-stock-is-falling%2C-ceo.html\", \"3: title : Dow Jones Futures Fall: Nvidia CEO Speech In Focus; Google, Tesla Surge Ahead Of Fed Meeting, publisher :Investor\\'s Business Daily, link :https://finance.yahoo.com/m/6171e83e-7dae-330e-b9bf-caef5b72d2c3/dow-jones-futures-fall%3A.html\"]'}]"
      ]
     },
     "execution_count": 29,
     "metadata": {},
     "output_type": "execute_result"
    }
   ],
   "source": [
    "tools_output_array"
   ]
  },
  {
   "cell_type": "code",
   "execution_count": 16,
   "metadata": {},
   "outputs": [],
   "source": [
    "run = client.beta.threads.runs.submit_tool_outputs(\n",
    "    thread_id = thread.id,\n",
    "    run_id = run.id,\n",
    "    tool_outputs=tools_output_array\n",
    ")"
   ]
  },
  {
   "cell_type": "code",
   "execution_count": 17,
   "metadata": {},
   "outputs": [
    {
     "name": "stdout",
     "output_type": "stream",
     "text": [
      "in_progress\n",
      "completed\n"
     ]
    }
   ],
   "source": [
    "while run.status not in [\"completed\", \"failed\", \"requires_action\"]:\n",
    "  run = client.beta.threads.runs.retrieve(\n",
    "    thread_id = thread.id,\n",
    "    run_id = run.id\n",
    "  )\n",
    "\n",
    "  print(run.status)\n",
    "  time.sleep(5)"
   ]
  },
  {
   "cell_type": "code",
   "execution_count": 18,
   "metadata": {},
   "outputs": [
    {
     "name": "stdout",
     "output_type": "stream",
     "text": [
      "assistant: 테슬라의 최근 주가는 175.66달러입니다. 최신 뉴스는 다음과 같습니다:\n",
      "1. 제목: \"China’s booming EV market puts these 3 companies on the path to growth. Here’s what sets them apart­­and the challenges they have to face\", 발행사: Fortune, 링크: [기사 링크](https://finance.yahoo.com/news/china-booming-ev-market-puts-230000468.html)\n",
      "2. 제목: \"Great News for Tesla Stock Investors!\", 발행사: Motley Fool, 링크: [기사 링크](https://finance.yahoo.com/m/850755a4-c83e-320b-8c81-21332f747336/great-news-for-tesla-stock.html)\n",
      "3. 제목: \"Massive Warning for Rivian, Lucid, and Even Tesla Investors\", 발행사: Motley Fool, 링크: [기사 링크](https://finance.yahoo.com/m/059639bc-a6eb-3655-bfd2-2a478d6b5342/massive-warning-for-rivian%2C.html)\n",
      "=========\n",
      "user: 테슬라의 최근 주가와 최신 뉴스에 대해 알려줘\n",
      "=========\n"
     ]
    }
   ],
   "source": [
    "# 메세지 리스트 가져오기\n",
    "messages = client.beta.threads.messages.list(\n",
    "  thread_id=thread.id\n",
    ")\n",
    "\n",
    "#메세지 프린트\n",
    "for each in messages:\n",
    "  print(each.role + \": \"+each.content[0].text.value)\n",
    "  print(\"=========\")"
   ]
  },
  {
   "cell_type": "code",
   "execution_count": 24,
   "metadata": {},
   "outputs": [
    {
     "data": {
      "text/plain": [
       "'테슬라의 최근 주가는 175.66달러입니다. 최신 뉴스는 다음과 같습니다:\\n1. 제목: \"China’s booming EV market puts these 3 companies on the path to growth. Here’s what sets them apart\\xad\\xadand the challenges they have to face\", 발행사: Fortune, 링크: [기사 링크](https://finance.yahoo.com/news/china-booming-ev-market-puts-230000468.html)\\n2. 제목: \"Great News for Tesla Stock Investors!\", 발행사: Motley Fool, 링크: [기사 링크](https://finance.yahoo.com/m/850755a4-c83e-320b-8c81-21332f747336/great-news-for-tesla-stock.html)\\n3. 제목: \"Massive Warning for Rivian, Lucid, and Even Tesla Investors\", 발행사: Motley Fool, 링크: [기사 링크](https://finance.yahoo.com/m/059639bc-a6eb-3655-bfd2-2a478d6b5342/massive-warning-for-rivian%2C.html)'"
      ]
     },
     "execution_count": 24,
     "metadata": {},
     "output_type": "execute_result"
    }
   ],
   "source": [
    "messages.data[0].content[0].text.value"
   ]
  },
  {
   "cell_type": "markdown",
   "metadata": {},
   "source": [
    "# Assistants 삭제"
   ]
  },
  {
   "cell_type": "code",
   "execution_count": 33,
   "metadata": {},
   "outputs": [
    {
     "name": "stdout",
     "output_type": "stream",
     "text": [
      "AssistantDeleted(id='asst_3EgCcFCcsSYK2twUhDpGm0hH', deleted=True, object='assistant.deleted')\n"
     ]
    }
   ],
   "source": [
    "response = client.beta.assistants.delete(assistant.id)\n",
    "print(response)"
   ]
  }
 ],
 "metadata": {
  "kernelspec": {
   "display_name": "ch05",
   "language": "python",
   "name": "python3"
  },
  "language_info": {
   "codemirror_mode": {
    "name": "ipython",
    "version": 3
   },
   "file_extension": ".py",
   "mimetype": "text/x-python",
   "name": "python",
   "nbconvert_exporter": "python",
   "pygments_lexer": "ipython3",
   "version": "3.11.0"
  }
 },
 "nbformat": 4,
 "nbformat_minor": 2
}
