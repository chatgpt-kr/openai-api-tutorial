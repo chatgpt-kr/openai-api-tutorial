{
 "cells": [
  {
   "cell_type": "markdown",
   "metadata": {},
   "source": [
    "# 기본 정보 입력"
   ]
  },
  {
   "cell_type": "code",
   "execution_count": 1,
   "metadata": {},
   "outputs": [],
   "source": [
    "# 패키지 불러오기\n",
    "import openai"
   ]
  },
  {
   "cell_type": "code",
   "execution_count": 2,
   "metadata": {},
   "outputs": [],
   "source": [
    "# API 키 지정하여 클라이언트 선언하기\n",
    "client = openai.OpenAI(api_key = \"발금받은 OpenAI API 키\")"
   ]
  },
  {
   "cell_type": "markdown",
   "metadata": {},
   "source": [
    "## 파일 업로드 및 벡터 저장소 추가하기"
   ]
  },
  {
   "cell_type": "code",
   "execution_count": 3,
   "metadata": {},
   "outputs": [],
   "source": [
    "# 벡터 저장소 생성하기\n",
    "vector_store = client.beta.vector_stores.create(name=\"축구 규칙 파일\")"
   ]
  },
  {
   "cell_type": "code",
   "execution_count": 4,
   "metadata": {},
   "outputs": [
    {
     "name": "stdout",
     "output_type": "stream",
     "text": [
      "completed\n",
      "FileCounts(cancelled=0, completed=1, failed=0, in_progress=0, total=1)\n"
     ]
    }
   ],
   "source": [
    "# 파일을 벡터 저장소에 올리기\n",
    "file_streams = open(\"축구규칙정리.pdf\", \"rb\")\n",
    "\n",
    "file_batch = client.beta.vector_stores.file_batches.upload_and_poll(\n",
    "  vector_store_id=vector_store.id, files=[file_streams]\n",
    ")\n",
    "print(file_batch.status)\n",
    "print(file_batch.file_counts)"
   ]
  },
  {
   "cell_type": "markdown",
   "metadata": {},
   "source": [
    "# Create Assistant\n",
    "- instructions: 어시스턴트와 모델이 어떻게 행동하거나 응답해야 하는지 알려줍니다.\n",
    "- model: 미세 조정된 모델을 포함하여 모든 GPT-3.5 또는 GPT-4 모델을 지정할 수 있습니다. 검색 도구에는 gpt-3.5-turbo-1106 및 gpt-4-1106-preview 모델이 필요합니다.\n",
    "- tools: API는 OpenAI에서 빌드 및 호스팅하는 코드 인터프리터와 웹 검색을 지원합니다. 또한 함수 호출 기능과 유사한 동작으로 사용자 정의 함수 서명을 정의할 수 있습니다\n"
   ]
  },
  {
   "cell_type": "code",
   "execution_count": 7,
   "metadata": {},
   "outputs": [],
   "source": [
    "instruction = '''\n",
    "[목적]\n",
    "이 GPT는 축구 규칙을 상세히 설명해주는 챗봇입니다.\n",
    "\n",
    "[규칙]\n",
    "1. 사용자가 축구 규칙에 대해 질문하면 업로드된 파일에서 해당 내용을 찾아 자세히 답변합니다.\n",
    "2. 파일안에서 마땅한 답을 찾을 수 없거나 축구 규칙에 관한 질문이 아니면 \"축구 규칙에 관한 질문만 부탁해요^^\" 라고 답해주세요.\n",
    "3. 답변의 형태는 아래 예시와 같이 해주세요\n",
    "예시)\n",
    "-  질문 : 질문 내용\n",
    "-  답변 : 답변내용 \n",
    "4. 모든 질문에 한국어로 답변해주세요.\n",
    "'''"
   ]
  },
  {
   "cell_type": "code",
   "execution_count": 8,
   "metadata": {},
   "outputs": [
    {
     "name": "stdout",
     "output_type": "stream",
     "text": [
      "asst_ARpw27ITT2HMg78CnxwNLv7A\n"
     ]
    }
   ],
   "source": [
    "assistant = client.beta.assistants.create(\n",
    "  name = \"축구 규칙 설명 챗봇\",\n",
    "  instructions=instruction,\n",
    "  model=\"gpt-3.5-turbo-1106\",\n",
    "  tools=[{\"type\": \"file_search\"}],\n",
    "  tool_resources={\"file_search\": {\"vector_store_ids\": [vector_store.id]}}\n",
    ")\n",
    "\n",
    "print(assistant.id)"
   ]
  },
  {
   "cell_type": "markdown",
   "metadata": {},
   "source": [
    "## 생성한 Assistant 업데이트 하기"
   ]
  },
  {
   "cell_type": "code",
   "execution_count": null,
   "metadata": {},
   "outputs": [],
   "source": [
    "# Run this only if you need to update the configuration of the assistant\n",
    "assistant = client.beta.assistants.update(\n",
    "  assistant.id,\n",
    "  instructions=instruction,\n",
    "  model=\"gpt-4-1106-preview\",\n",
    "  #model=\"gpt-3.5-turbo-1106\",\n",
    "  tools=[{\"type\": \"retrieval\"}],\n",
    "  file_ids=[file.id]\n",
    ")"
   ]
  },
  {
   "cell_type": "markdown",
   "metadata": {},
   "source": [
    "## 기존 Assistant 불러오기"
   ]
  },
  {
   "cell_type": "code",
   "execution_count": 9,
   "metadata": {},
   "outputs": [
    {
     "name": "stdout",
     "output_type": "stream",
     "text": [
      "[Assistant(id='asst_2zHoFZNdrDxlqksAmPTRAweO', created_at=1709470447, description=None, file_ids=['file-5u9FN54oWlCC1FpPi26IMAMY'], instructions='\\n[목적]\\n이 GPT는 축구 규칙을 상세히 설명해주는 챗봇입니다.\\n\\n[규칙]\\n1. 사용자가 축구 규칙에 대해 질문하면 업로드된 파일에서 해당 내용을 찾아 자세히 답변합니다.\\n2. 파일안에서 마땅한 답을 찾을 수 없거나 축구 규칙에 관한 질문이 아니면 \"축구 규칙에 관한 질문만 부탁해요^^\" 라고 답해주세요.\\n3. 답변의 형태는 아래 예시와 같이 해주세요\\n예시)\\n-  질문 : 질문 내용\\n-  답변 : 답변내용 \\n4. 모든 질문에 한국어로 답변해주세요.\\n', metadata={}, model='gpt-3.5-turbo-1106', name='축구 규칙 설명 챗봇', object='assistant', tools=[ToolRetrieval(type='retrieval')])]\n"
     ]
    }
   ],
   "source": [
    "# 나의 Assistant 목록 확인\n",
    "my_assistants = client.beta.assistants.list(\n",
    "    order=\"desc\",\n",
    "    limit=\"20\",\n",
    ")\n",
    "print(my_assistants.data)"
   ]
  },
  {
   "cell_type": "code",
   "execution_count": 4,
   "metadata": {},
   "outputs": [
    {
     "name": "stdout",
     "output_type": "stream",
     "text": [
      "Assistant(id='asst_KoH4sLsw9B4vwjsKVbpmKy1l', created_at=1702534045, description=None, file_ids=['file-wRakvw7TiO1b2rNUrh7kSsGc'], instructions=\"\\nYou're a soccer expert explaining the rules of the game\\n\\nRules:\\n1. when a user asks you a question about the rules of soccer, you find it in the uploaded file and answer it in detail.\\n2. if it's not in the file, say you're not sure.\\n3. answer all questions in Korean.\\n\", metadata={}, model='gpt-3.5-turbo-1106', name='축구 규칙 설명봇t', object='assistant', tools=[ToolRetrieval(type='retrieval')])\n"
     ]
    }
   ],
   "source": [
    "assistant = client.beta.assistants.retrieve(\"asst_KoH4sLsw9B4vwjsKVbpmKy1l\")\n",
    "print(assistant)"
   ]
  },
  {
   "cell_type": "markdown",
   "metadata": {},
   "source": [
    "# Thread"
   ]
  },
  {
   "cell_type": "markdown",
   "metadata": {},
   "source": [
    "## Thread 생성하기"
   ]
  },
  {
   "cell_type": "code",
   "execution_count": 9,
   "metadata": {},
   "outputs": [
    {
     "name": "stdout",
     "output_type": "stream",
     "text": [
      "Thread(id='thread_ali5tRuErmPTC0MCdwlid3gh', created_at=1714955827, metadata={}, object='thread', tool_resources=ToolResources(code_interpreter=None, file_search=None))\n"
     ]
    }
   ],
   "source": [
    "thread = client.beta.threads.create()\n",
    "print(thread)"
   ]
  },
  {
   "cell_type": "markdown",
   "metadata": {},
   "source": [
    "## Thread 에 메세지 넣기"
   ]
  },
  {
   "cell_type": "code",
   "execution_count": 10,
   "metadata": {},
   "outputs": [
    {
     "name": "stdout",
     "output_type": "stream",
     "text": [
      "Message(id='msg_qRtdjD1XVNjTwVqnsxEuputE', assistant_id=None, attachments=[], completed_at=None, content=[TextContentBlock(text=Text(annotations=[], value='축구장의 크기는?'), type='text')], created_at=1714955831, incomplete_at=None, incomplete_details=None, metadata={}, object='thread.message', role='user', run_id=None, status=None, thread_id='thread_ali5tRuErmPTC0MCdwlid3gh')\n"
     ]
    }
   ],
   "source": [
    "message = client.beta.threads.messages.create(\n",
    "    thread_id=thread.id,\n",
    "    role=\"user\",\n",
    "    content=\"축구장의 크기는?\"\n",
    ")\n",
    "print(message)"
   ]
  },
  {
   "cell_type": "markdown",
   "metadata": {},
   "source": [
    "# Assistant Run 하기"
   ]
  },
  {
   "cell_type": "code",
   "execution_count": 11,
   "metadata": {},
   "outputs": [],
   "source": [
    "run = client.beta.threads.runs.create(\n",
    "  thread_id=thread.id,\n",
    "  assistant_id=assistant.id)"
   ]
  },
  {
   "cell_type": "code",
   "execution_count": 12,
   "metadata": {},
   "outputs": [
    {
     "name": "stdout",
     "output_type": "stream",
     "text": [
      "completed\n"
     ]
    }
   ],
   "source": [
    "import time\n",
    "\n",
    "while run.status not in [\"completed\", \"failed\"]:\n",
    "  run = client.beta.threads.runs.retrieve(\n",
    "    thread_id= thread.id,\n",
    "    run_id= run.id\n",
    "  )\n",
    "  print(run.status)\n",
    "  time.sleep(5)"
   ]
  },
  {
   "cell_type": "markdown",
   "metadata": {},
   "source": [
    "# 결과확인(Run complete 후)"
   ]
  },
  {
   "cell_type": "code",
   "execution_count": 13,
   "metadata": {},
   "outputs": [],
   "source": [
    "messages = client.beta.threads.messages.list(\n",
    "  thread_id=thread.id\n",
    ")"
   ]
  },
  {
   "cell_type": "code",
   "execution_count": 14,
   "metadata": {},
   "outputs": [
    {
     "name": "stdout",
     "output_type": "stream",
     "text": [
      "assistant: 축구장의 크기는 다음과 같습니다:\n",
      "- 터치라인 길이: 최소 90m (100 야드) ~ 최대 120m (130 야드)\n",
      "- 골라인 길이: 최소 45m (50 야드) ~ 최대 90m (100 야드)\n",
      "- 국제경기를 위한 크기\n",
      "  - 터치라인 길이: 최소 100m (110 야드) ~ 최대 110m (120 야드)\n",
      "  - 골라인 길이: 최소 64m (70 야드) ~ 최대 75m (80 야드)\n",
      "\n",
      "또한, 골대의 크기는 골대 내측의 거리가 7.32m(8야드)이고, 지면에서 크로스바 아래쪽까지의 높이는 2.44m(8피트)입니다. 이러한 기준은 FIFA의 규정에 따라서 정해지며, 대회 주최 측은 골라인 및 터치라인의 길이를 결정할 수 있습니다.\n",
      "\n",
      "이 정보는 '축구규칙정리.pdf' 파일에서 찾았습니다. \n",
      "=========\n",
      "user: 축구장의 크기는?\n",
      "=========\n"
     ]
    }
   ],
   "source": [
    "for each in messages:\n",
    "  print(each.role + \": \"+each.content[0].text.value)\n",
    "  print(\"=========\")"
   ]
  },
  {
   "cell_type": "markdown",
   "metadata": {},
   "source": [
    "# 질문 추가하기"
   ]
  },
  {
   "cell_type": "code",
   "execution_count": 15,
   "metadata": {},
   "outputs": [
    {
     "name": "stdout",
     "output_type": "stream",
     "text": [
      "user: 오프사이드 룰에 대해 설명해줘\n",
      "=========\n",
      "assistant: 축구장의 크기는 다음과 같습니다:\n",
      "- 터치라인 길이: 최소 90m (100 야드) ~ 최대 120m (130 야드)\n",
      "- 골라인 길이: 최소 45m (50 야드) ~ 최대 90m (100 야드)\n",
      "- 국제경기를 위한 크기\n",
      "  - 터치라인 길이: 최소 100m (110 야드) ~ 최대 110m (120 야드)\n",
      "  - 골라인 길이: 최소 64m (70 야드) ~ 최대 75m (80 야드)\n",
      "\n",
      "또한, 골대의 크기는 골대 내측의 거리가 7.32m(8야드)이고, 지면에서 크로스바 아래쪽까지의 높이는 2.44m(8피트)입니다. 이러한 기준은 FIFA의 규정에 따라서 정해지며, 대회 주최 측은 골라인 및 터치라인의 길이를 결정할 수 있습니다.\n",
      "\n",
      "이 정보는 '축구규칙정리.pdf' 파일에서 찾았습니다. \n",
      "=========\n",
      "user: 축구장의 크기는?\n",
      "=========\n"
     ]
    }
   ],
   "source": [
    "# 메세지 추가\n",
    "message = client.beta.threads.messages.create(\n",
    "    thread_id=thread.id,\n",
    "    role=\"user\",\n",
    "    content=\"오프사이드 룰에 대해 설명해줘\"\n",
    ")\n",
    "\n",
    "# 메세지 리스트 가져오기\n",
    "messages = client.beta.threads.messages.list(\n",
    "  thread_id=thread.id\n",
    ")\n",
    "\n",
    "#메세지 프린트\n",
    "for each in messages:\n",
    "  print(each.role + \": \"+each.content[0].text.value)\n",
    "  print(\"=========\")"
   ]
  },
  {
   "cell_type": "code",
   "execution_count": 16,
   "metadata": {},
   "outputs": [
    {
     "name": "stdout",
     "output_type": "stream",
     "text": [
      "in_progress\n",
      "in_progress\n",
      "in_progress\n",
      "completed\n"
     ]
    }
   ],
   "source": [
    "run = client.beta.threads.runs.create(\n",
    "  thread_id=thread.id,\n",
    "  assistant_id=assistant.id,)\n",
    "\n",
    "while run.status not in [\"completed\", \"failed\"]:\n",
    "\n",
    "  run = client.beta.threads.runs.retrieve(\n",
    "    thread_id= thread.id,\n",
    "    run_id= run.id)\n",
    "\n",
    "  print(run.status)\n",
    "\n",
    "  time.sleep(5)"
   ]
  },
  {
   "cell_type": "code",
   "execution_count": 17,
   "metadata": {},
   "outputs": [
    {
     "name": "stdout",
     "output_type": "stream",
     "text": [
      "assistant: 오프사이드는 축구에서 자주 논쟁거리가 되는 규칙 중 하나입니다. 오프사이드 규칙은 다음과 같습니다.\n",
      "\n",
      "- 공격수가 볼을 받을 때 수비수보다 더 가까이에 있으면 오프사이드입니다.\n",
      "- 그러나, 공격수가 골키퍼와 같거나 그보다 더 가까이에 있으면 오프사이드가 아닙니다.\n",
      "- 또한, 볼을 받을 때 이미 오프사이드 위치에 있는 선수가 상대 선수를 방해하지 않는다면 오프사이드라고 할 수 없습니다.\n",
      "\n",
      "이 정보는 '축구규칙정리.pdf' 파일에서 찾았습니다.    【4:4†source】 \n",
      "=========\n",
      "user: 오프사이드 룰에 대해 설명해줘\n",
      "=========\n",
      "assistant: 축구장의 크기는 다음과 같습니다:\n",
      "- 터치라인 길이: 최소 90m (100 야드) ~ 최대 120m (130 야드)\n",
      "- 골라인 길이: 최소 45m (50 야드) ~ 최대 90m (100 야드)\n",
      "- 국제경기를 위한 크기\n",
      "  - 터치라인 길이: 최소 100m (110 야드) ~ 최대 110m (120 야드)\n",
      "  - 골라인 길이: 최소 64m (70 야드) ~ 최대 75m (80 야드)\n",
      "\n",
      "또한, 골대의 크기는 골대 내측의 거리가 7.32m(8야드)이고, 지면에서 크로스바 아래쪽까지의 높이는 2.44m(8피트)입니다. 이러한 기준은 FIFA의 규정에 따라서 정해지며, 대회 주최 측은 골라인 및 터치라인의 길이를 결정할 수 있습니다.\n",
      "\n",
      "이 정보는 '축구규칙정리.pdf' 파일에서 찾았습니다. \n",
      "=========\n",
      "user: 축구장의 크기는?\n",
      "=========\n"
     ]
    }
   ],
   "source": [
    "# 메세지 리스트 가져오기\n",
    "messages = client.beta.threads.messages.list(\n",
    "  thread_id=thread.id\n",
    ")\n",
    "\n",
    "#메세지 프린트\n",
    "for each in messages:\n",
    "  print(each.role + \": \"+each.content[0].text.value)\n",
    "  print(\"=========\")"
   ]
  },
  {
   "cell_type": "markdown",
   "metadata": {},
   "source": [
    "# Assistants 삭제"
   ]
  },
  {
   "cell_type": "code",
   "execution_count": 25,
   "metadata": {},
   "outputs": [
    {
     "name": "stdout",
     "output_type": "stream",
     "text": [
      "AssistantDeleted(id='asst_ARpw27ITT2HMg78CnxwNLv7A', deleted=True, object='assistant.deleted')\n"
     ]
    }
   ],
   "source": [
    "response = client.beta.assistants.delete(assistant.id)\n",
    "print(response)"
   ]
  },
  {
   "cell_type": "markdown",
   "metadata": {},
   "source": [
    "# File 삭제"
   ]
  },
  {
   "cell_type": "code",
   "execution_count": 26,
   "metadata": {},
   "outputs": [
    {
     "name": "stdout",
     "output_type": "stream",
     "text": [
      "SyncPage[FileObject](data=[FileObject(id='file-XHR2zl9rcLf20XEOiFy6NCEI', bytes=30066107, created_at=1714955622, filename='축구규칙정리.pdf', object='file', purpose='assistants', status='processed', status_details=None)], object='list', has_more=False)\n"
     ]
    }
   ],
   "source": [
    "# 업로드한 파일 목록 가져오기\n",
    "file_list = client.files.list()\n",
    "print(file_list)"
   ]
  },
  {
   "cell_type": "code",
   "execution_count": 27,
   "metadata": {},
   "outputs": [
    {
     "name": "stdout",
     "output_type": "stream",
     "text": [
      "file-XHR2zl9rcLf20XEOiFy6NCEI\n"
     ]
    }
   ],
   "source": [
    "# 특정 파일 ID 가져오기\n",
    "file_id = file_list.data[0].id\n",
    "print(file_id)"
   ]
  },
  {
   "cell_type": "code",
   "execution_count": 28,
   "metadata": {},
   "outputs": [
    {
     "name": "stdout",
     "output_type": "stream",
     "text": [
      "FileDeleted(id='file-XHR2zl9rcLf20XEOiFy6NCEI', deleted=True, object='file')\n"
     ]
    }
   ],
   "source": [
    "# 업로드 파일 삭제\n",
    "response = client.files.delete(file_id)\n",
    "print(response)"
   ]
  }
 ],
 "metadata": {
  "kernelspec": {
   "display_name": "ch05",
   "language": "python",
   "name": "python3"
  },
  "language_info": {
   "codemirror_mode": {
    "name": "ipython",
    "version": 3
   },
   "file_extension": ".py",
   "mimetype": "text/x-python",
   "name": "python",
   "nbconvert_exporter": "python",
   "pygments_lexer": "ipython3",
   "version": "3.11.0"
  }
 },
 "nbformat": 4,
 "nbformat_minor": 2
}
