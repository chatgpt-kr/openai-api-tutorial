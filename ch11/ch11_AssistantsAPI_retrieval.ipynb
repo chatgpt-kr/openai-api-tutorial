{
 "cells": [
  {
   "cell_type": "markdown",
   "metadata": {},
   "source": [
    "# 기본 정보 입력"
   ]
  },
  {
   "cell_type": "code",
   "execution_count": 1,
   "metadata": {},
   "outputs": [],
   "source": [
    "# 패키지 불러오기\n",
    "import openai"
   ]
  },
  {
   "cell_type": "code",
   "execution_count": 2,
   "metadata": {},
   "outputs": [],
   "source": [
    "# API 키 지정하여 클라이언트 선언하기\n",
    "OPENAI_API_KEY=\"API_KEY\"\n",
    "client = openai.OpenAI(api_key = OPENAI_API_KEY)"
   ]
  },
  {
   "cell_type": "markdown",
   "metadata": {},
   "source": [
    "## Knowledge 로 사용할 파일 업로드"
   ]
  },
  {
   "cell_type": "code",
   "execution_count": 3,
   "metadata": {},
   "outputs": [
    {
     "name": "stdout",
     "output_type": "stream",
     "text": [
      "file-xh5nP3jEKdKbFOGK8ocPqICr\n"
     ]
    }
   ],
   "source": [
    "file = client.files.create(\n",
    "  file=open(\"축구규칙정리.pdf\", \"rb\"),\n",
    "  purpose='assistants'\n",
    ")\n",
    "print(file.id)"
   ]
  },
  {
   "cell_type": "markdown",
   "metadata": {},
   "source": [
    "## 내가 업로드한 파일 목록 확인하기"
   ]
  },
  {
   "cell_type": "code",
   "execution_count": 4,
   "metadata": {},
   "outputs": [
    {
     "name": "stdout",
     "output_type": "stream",
     "text": [
      "SyncPage[FileObject](data=[FileObject(id='file-gmm02rIMFkKpNRr2wrj3sV5n', bytes=30066107, created_at=1702644125, filename='soccer_rule_book.pdf', object='file', purpose='assistants', status='processed', status_details=None)], object='list', has_more=False)\n"
     ]
    }
   ],
   "source": [
    "\n",
    "file_list = client.files.list()\n",
    "print(file_list)"
   ]
  },
  {
   "cell_type": "code",
   "execution_count": 5,
   "metadata": {},
   "outputs": [
    {
     "name": "stdout",
     "output_type": "stream",
     "text": [
      "file-gmm02rIMFkKpNRr2wrj3sV5n\n"
     ]
    }
   ],
   "source": [
    "# 특정 파일 ID 가져오기\n",
    "\n",
    "file_id = file_list.data[0].id\n",
    "print(file_id)"
   ]
  },
  {
   "cell_type": "markdown",
   "metadata": {},
   "source": [
    "# Create Assistant\n",
    "- instructions: 어시스턴트와 모델이 어떻게 행동하거나 응답해야 하는지 알려줍니다.\n",
    "- model: 미세 조정된 모델을 포함하여 모든 GPT-3.5 또는 GPT-4 모델을 지정할 수 있습니다. 검색 도구에는 gpt-3.5-turbo-1106 및 gpt-4-1106-preview 모델이 필요합니다.\n",
    "- tools: API는 OpenAI에서 빌드 및 호스팅하는 코드 인터프리터와 웹 검색을 지원합니다. 또한 함수 호출 기능과 유사한 동작으로 사용자 정의 함수 서명을 정의할 수 있습니다\n"
   ]
  },
  {
   "cell_type": "code",
   "execution_count": 4,
   "metadata": {},
   "outputs": [],
   "source": [
    "instruction = '''\n",
    "[목적]\n",
    "이 GPT는 축구 규칙을 상세히 설명해주는 챗봇입니다.\n",
    "\n",
    "[규칙]\n",
    "1. 사용자가 축구 규칙에 대해 질문하면 업로드된 파일에서 해당 내용을 찾아 자세히 답변합니다.\n",
    "2. 파일안에서 마땅한 답을 찾을 수 없거나 축구 규칙에 관한 질문이 아니면 \"축구 규칙에 관한 질문만 부탁해요^^\" 라고 답해주세요.\n",
    "3. 답변의 형태는 아래 예시와 같이 해주세요\n",
    "예시)\n",
    "-  질문 : 질문 내용\n",
    "-  답변 : 답변내용 \n",
    "4. 모든 질문에 한국어로 답변해주세요.\n",
    "'''"
   ]
  },
  {
   "cell_type": "code",
   "execution_count": 5,
   "metadata": {},
   "outputs": [
    {
     "name": "stdout",
     "output_type": "stream",
     "text": [
      "asst_GHdKitF0kR55ZyVnGKr8QaCB\n"
     ]
    }
   ],
   "source": [
    "assistant = client.beta.assistants.create(\n",
    "  name = \"축구 규칙 설명 챗봇\",\n",
    "  instructions=instruction,\n",
    "  model=\"gpt-3.5-turbo-1106\",\n",
    "  tools=[{\"type\": \"retrieval\"}],\n",
    "  file_ids=[file.id]\n",
    ")\n",
    "\n",
    "print(assistant.id)"
   ]
  },
  {
   "cell_type": "markdown",
   "metadata": {},
   "source": [
    "## 생성한 Assistant 업데이트 하기"
   ]
  },
  {
   "cell_type": "code",
   "execution_count": null,
   "metadata": {},
   "outputs": [],
   "source": [
    "# Run this only if you need to update the configuration of the assistant\n",
    "assistant = client.beta.assistants.update(\n",
    "  assistant.id,\n",
    "  instructions=instruction,\n",
    "  model=\"gpt-4-1106-preview\",\n",
    "  #model=\"gpt-3.5-turbo-1106\",\n",
    "  tools=[{\"type\": \"retrieval\"}],\n",
    "  file_ids=[file.id]\n",
    ")"
   ]
  },
  {
   "cell_type": "markdown",
   "metadata": {},
   "source": [
    "## 기존 Assistant 불러오기"
   ]
  },
  {
   "cell_type": "code",
   "execution_count": 9,
   "metadata": {},
   "outputs": [
    {
     "name": "stdout",
     "output_type": "stream",
     "text": [
      "[Assistant(id='asst_2zHoFZNdrDxlqksAmPTRAweO', created_at=1709470447, description=None, file_ids=['file-5u9FN54oWlCC1FpPi26IMAMY'], instructions='\\n[목적]\\n이 GPT는 축구 규칙을 상세히 설명해주는 챗봇입니다.\\n\\n[규칙]\\n1. 사용자가 축구 규칙에 대해 질문하면 업로드된 파일에서 해당 내용을 찾아 자세히 답변합니다.\\n2. 파일안에서 마땅한 답을 찾을 수 없거나 축구 규칙에 관한 질문이 아니면 \"축구 규칙에 관한 질문만 부탁해요^^\" 라고 답해주세요.\\n3. 답변의 형태는 아래 예시와 같이 해주세요\\n예시)\\n-  질문 : 질문 내용\\n-  답변 : 답변내용 \\n4. 모든 질문에 한국어로 답변해주세요.\\n', metadata={}, model='gpt-3.5-turbo-1106', name='축구 규칙 설명 챗봇', object='assistant', tools=[ToolRetrieval(type='retrieval')])]\n"
     ]
    }
   ],
   "source": [
    "# 나의 Assistant 목록 확인\n",
    "my_assistants = client.beta.assistants.list(\n",
    "    order=\"desc\",\n",
    "    limit=\"20\",\n",
    ")\n",
    "print(my_assistants.data)"
   ]
  },
  {
   "cell_type": "code",
   "execution_count": 4,
   "metadata": {},
   "outputs": [
    {
     "name": "stdout",
     "output_type": "stream",
     "text": [
      "Assistant(id='asst_KoH4sLsw9B4vwjsKVbpmKy1l', created_at=1702534045, description=None, file_ids=['file-wRakvw7TiO1b2rNUrh7kSsGc'], instructions=\"\\nYou're a soccer expert explaining the rules of the game\\n\\nRules:\\n1. when a user asks you a question about the rules of soccer, you find it in the uploaded file and answer it in detail.\\n2. if it's not in the file, say you're not sure.\\n3. answer all questions in Korean.\\n\", metadata={}, model='gpt-3.5-turbo-1106', name='축구 규칙 설명봇t', object='assistant', tools=[ToolRetrieval(type='retrieval')])\n"
     ]
    }
   ],
   "source": [
    "assistant = client.beta.assistants.retrieve(\"asst_KoH4sLsw9B4vwjsKVbpmKy1l\")\n",
    "print(assistant)"
   ]
  },
  {
   "cell_type": "markdown",
   "metadata": {},
   "source": [
    "# Tread"
   ]
  },
  {
   "cell_type": "markdown",
   "metadata": {},
   "source": [
    "## Tread 생성하기"
   ]
  },
  {
   "cell_type": "code",
   "execution_count": 6,
   "metadata": {},
   "outputs": [
    {
     "name": "stdout",
     "output_type": "stream",
     "text": [
      "Thread(id='thread_NDE00aRkYxvU5rLaNAE9izbA', created_at=1709622201, metadata={}, object='thread')\n"
     ]
    }
   ],
   "source": [
    "thread = client.beta.threads.create()\n",
    "print(thread)"
   ]
  },
  {
   "cell_type": "markdown",
   "metadata": {},
   "source": [
    "## Tread 에 메세지 넣기"
   ]
  },
  {
   "cell_type": "code",
   "execution_count": 7,
   "metadata": {},
   "outputs": [
    {
     "name": "stdout",
     "output_type": "stream",
     "text": [
      "ThreadMessage(id='msg_H8Hok2ZB5Xd5JlpXpBz5jdsO', assistant_id=None, content=[MessageContentText(text=Text(annotations=[], value='축구장의 크기는?'), type='text')], created_at=1709622203, file_ids=[], metadata={}, object='thread.message', role='user', run_id=None, thread_id='thread_NDE00aRkYxvU5rLaNAE9izbA')\n"
     ]
    }
   ],
   "source": [
    "message = client.beta.threads.messages.create(\n",
    "    thread_id=thread.id,\n",
    "    role=\"user\",\n",
    "    content=\"축구장의 크기는?\"\n",
    ")\n",
    "print(message)"
   ]
  },
  {
   "cell_type": "markdown",
   "metadata": {},
   "source": [
    "# Assistant Run 하기"
   ]
  },
  {
   "cell_type": "code",
   "execution_count": 9,
   "metadata": {},
   "outputs": [],
   "source": [
    "run = client.beta.threads.runs.create(\n",
    "  thread_id=thread.id,\n",
    "  assistant_id=assistant.id)"
   ]
  },
  {
   "cell_type": "code",
   "execution_count": 10,
   "metadata": {},
   "outputs": [
    {
     "name": "stdout",
     "output_type": "stream",
     "text": [
      "in_progress\n",
      "in_progress\n",
      "completed\n"
     ]
    }
   ],
   "source": [
    "import time\n",
    "\n",
    "while run.status not in [\"completed\", \"failed\"]:\n",
    "  run = client.beta.threads.runs.retrieve(\n",
    "    thread_id= thread.id,\n",
    "    run_id= run.id\n",
    "  )\n",
    "  print(run.status)\n",
    "  time.sleep(5)"
   ]
  },
  {
   "cell_type": "markdown",
   "metadata": {},
   "source": [
    "# 결과확인(Run complete 후)"
   ]
  },
  {
   "cell_type": "code",
   "execution_count": 11,
   "metadata": {},
   "outputs": [],
   "source": [
    "messages = client.beta.threads.messages.list(\n",
    "  thread_id=thread.id\n",
    ")"
   ]
  },
  {
   "cell_type": "code",
   "execution_count": 12,
   "metadata": {},
   "outputs": [
    {
     "name": "stdout",
     "output_type": "stream",
     "text": [
      "assistant: 축구장의 크기는 국제 경기를 위한 경우와 일반적인 대회를 위한 경우로 구분됩니다.\n",
      "\n",
      "- 국제 경기를 위한 크기:\n",
      "  - 터치라인: 최소 100m (110 야드) - 최대 110m (120 야드)\n",
      "  - 골라인: 최소 64m (70 야드) - 최대 75m (80 야드)\n",
      "\n",
      "- 대회를 위한 크기:\n",
      "  - 터치라인: 최소 90m (100 야드) - 최대 120m (130 야드)\n",
      "  - 골라인: 최소 45m (50 야드) - 최대 90m (100 야드)\n",
      "\n",
      "대회 주최 측은 위의 범위 내에서 골라인과 터치라인의 길이를 결정할 수 있습니다【7†출처】.\n",
      "=========\n",
      "user: 축구장의 크기는?\n",
      "=========\n"
     ]
    }
   ],
   "source": [
    "for each in messages:\n",
    "  print(each.role + \": \"+each.content[0].text.value)\n",
    "  print(\"=========\")"
   ]
  },
  {
   "cell_type": "markdown",
   "metadata": {},
   "source": [
    "# 질문 추가하기"
   ]
  },
  {
   "cell_type": "code",
   "execution_count": 14,
   "metadata": {},
   "outputs": [
    {
     "name": "stdout",
     "output_type": "stream",
     "text": [
      "user: 오프사이드 룰에 대해 설명해줘?\n",
      "=========\n",
      "assistant: 축구장의 크기는 국제 경기를 위한 경우와 일반적인 대회를 위한 경우로 구분됩니다.\n",
      "\n",
      "- 국제 경기를 위한 크기:\n",
      "  - 터치라인: 최소 100m (110 야드) - 최대 110m (120 야드)\n",
      "  - 골라인: 최소 64m (70 야드) - 최대 75m (80 야드)\n",
      "\n",
      "- 대회를 위한 크기:\n",
      "  - 터치라인: 최소 90m (100 야드) - 최대 120m (130 야드)\n",
      "  - 골라인: 최소 45m (50 야드) - 최대 90m (100 야드)\n",
      "\n",
      "대회 주최 측은 위의 범위 내에서 골라인과 터치라인의 길이를 결정할 수 있습니다【7†출처】.\n",
      "=========\n",
      "user: 축구장의 크기는?\n",
      "=========\n"
     ]
    }
   ],
   "source": [
    "# 메세지 추가\n",
    "message = client.beta.threads.messages.create(\n",
    "    thread_id=thread.id,\n",
    "    role=\"user\",\n",
    "    content=\"오프사이드 룰에 대해 설명해줘\"\n",
    ")\n",
    "\n",
    "# 메세지 리스트 가져오기\n",
    "messages = client.beta.threads.messages.list(\n",
    "  thread_id=thread.id\n",
    ")\n",
    "\n",
    "#메세지 프린트\n",
    "for each in messages:\n",
    "  print(each.role + \": \"+each.content[0].text.value)\n",
    "  print(\"=========\")"
   ]
  },
  {
   "cell_type": "code",
   "execution_count": 15,
   "metadata": {},
   "outputs": [
    {
     "name": "stdout",
     "output_type": "stream",
     "text": [
      "in_progress\n",
      "in_progress\n",
      "completed\n"
     ]
    }
   ],
   "source": [
    "run = client.beta.threads.runs.create(\n",
    "  thread_id=thread.id,\n",
    "  assistant_id=assistant.id,)\n",
    "\n",
    "while run.status not in [\"completed\", \"failed\"]:\n",
    "\n",
    "  run = client.beta.threads.runs.retrieve(\n",
    "    thread_id= thread.id,\n",
    "    run_id= run.id)\n",
    "\n",
    "  print(run.status)\n",
    "\n",
    "  time.sleep(5)"
   ]
  },
  {
   "cell_type": "code",
   "execution_count": 16,
   "metadata": {},
   "outputs": [
    {
     "name": "stdout",
     "output_type": "stream",
     "text": [
      "assistant: 오프사이드 룰은 다음과 같은 내용을 포함합니다:\n",
      "\n",
      "1. 오프사이드 위치:\n",
      "   - 오프사이드 위치에 있는 것만으로는 반칙이 아닙니다. 오프사이드 위치에 있는 선수는 특정 조건을 충족해야 오프사이드라고 판단됩니다.\n",
      "   - 대략적으로 말하면, 상대방 골라인에 더 가까이 있고, 볼과 마지막으로 부딪힌 상대팀 수비수보다 더 앞선 위치에 있는 선수가 오프사이드 위치에 있다고 판단됩니다.\n",
      "\n",
      "2. 오프사이드 반칙:\n",
      "   - 오프사이드 위치에 있는 선수가 팀 동료에 의해 볼이 플레이되거나 터치된 순간에 적극적으로 플레이에 관여하거나 상대 선수를 방해할 때에만 처벌을 받습니다.\n",
      "   - 상대팀 선수의 시선을 가림으로써 플레이를 방해하거나, 명백하게 상대 선수의 플레이를 방해하는 행위를 하거나, 볼을 목적으로 상대 선수에게 도전하는 행위 등이 이에 해당합니다.\n",
      "\n",
      "상세한 내용은 규칙서에 기재되어 있으며, 위의 내용은 그 일부에 불과합니다【6†출처】.\n",
      "=========\n",
      "user: 오프사이드 룰에 대해 설명해줘?\n",
      "=========\n",
      "assistant: 축구장의 크기는 국제 경기를 위한 경우와 일반적인 대회를 위한 경우로 구분됩니다.\n",
      "\n",
      "- 국제 경기를 위한 크기:\n",
      "  - 터치라인: 최소 100m (110 야드) - 최대 110m (120 야드)\n",
      "  - 골라인: 최소 64m (70 야드) - 최대 75m (80 야드)\n",
      "\n",
      "- 대회를 위한 크기:\n",
      "  - 터치라인: 최소 90m (100 야드) - 최대 120m (130 야드)\n",
      "  - 골라인: 최소 45m (50 야드) - 최대 90m (100 야드)\n",
      "\n",
      "대회 주최 측은 위의 범위 내에서 골라인과 터치라인의 길이를 결정할 수 있습니다【7†출처】.\n",
      "=========\n",
      "user: 축구장의 크기는?\n",
      "=========\n"
     ]
    }
   ],
   "source": [
    "# 메세지 리스트 가져오기\n",
    "messages = client.beta.threads.messages.list(\n",
    "  thread_id=thread.id\n",
    ")\n",
    "\n",
    "#메세지 프린트\n",
    "for each in messages:\n",
    "  print(each.role + \": \"+each.content[0].text.value)\n",
    "  print(\"=========\")"
   ]
  },
  {
   "cell_type": "markdown",
   "metadata": {},
   "source": [
    "# Assistants / File 삭제"
   ]
  },
  {
   "cell_type": "code",
   "execution_count": 22,
   "metadata": {},
   "outputs": [
    {
     "ename": "TypeError",
     "evalue": "Files.delete() missing 1 required keyword-only argument: 'assistant_id'",
     "output_type": "error",
     "traceback": [
      "\u001b[1;31m---------------------------------------------------------------------------\u001b[0m",
      "\u001b[1;31mTypeError\u001b[0m                                 Traceback (most recent call last)",
      "Cell \u001b[1;32mIn[22], line 1\u001b[0m\n\u001b[1;32m----> 1\u001b[0m response \u001b[38;5;241m=\u001b[39m \u001b[43mclient\u001b[49m\u001b[38;5;241;43m.\u001b[39;49m\u001b[43mbeta\u001b[49m\u001b[38;5;241;43m.\u001b[39;49m\u001b[43massistants\u001b[49m\u001b[38;5;241;43m.\u001b[39;49m\u001b[43mfiles\u001b[49m\u001b[38;5;241;43m.\u001b[39;49m\u001b[43mdelete\u001b[49m\u001b[43m(\u001b[49m\u001b[43m \u001b[49m\n\u001b[0;32m      2\u001b[0m \u001b[43m  \u001b[49m\u001b[38;5;66;43;03m# 특정 assistant 에서만 제거하고 싶으면\u001b[39;49;00m\n\u001b[0;32m      3\u001b[0m \u001b[43m  \u001b[49m\u001b[38;5;66;43;03m# assistant_id=assistant.id, \u001b[39;49;00m\n\u001b[0;32m      4\u001b[0m \u001b[43m  \u001b[49m\u001b[43mfile_id\u001b[49m\u001b[38;5;241;43m=\u001b[39;49m\u001b[43mfile\u001b[49m\u001b[38;5;241;43m.\u001b[39;49m\u001b[43mid\u001b[49m\n\u001b[0;32m      5\u001b[0m \u001b[43m)\u001b[49m\n\u001b[0;32m      6\u001b[0m \u001b[38;5;28mprint\u001b[39m(response)\n",
      "\u001b[1;31mTypeError\u001b[0m: Files.delete() missing 1 required keyword-only argument: 'assistant_id'"
     ]
    }
   ],
   "source": [
    "# 특정 assistant 에서만 제거하고 싶으면\n",
    "response = client.beta.assistants.files.delete( \n",
    "  assistant_id=assistant.id, \n",
    "  file_id=file.id\n",
    ")\n",
    "print(response)"
   ]
  },
  {
   "cell_type": "code",
   "execution_count": 19,
   "metadata": {},
   "outputs": [
    {
     "name": "stdout",
     "output_type": "stream",
     "text": [
      "FileDeleted(id='file-xh5nP3jEKdKbFOGK8ocPqICr', deleted=True, object='file')\n",
      "AssistantDeleted(id='asst_GHdKitF0kR55ZyVnGKr8QaCB', deleted=True, object='assistant.deleted')\n"
     ]
    }
   ],
   "source": [
    "# 업로드 파일 삭제\n",
    "response = client.files.delete(file.id)\n",
    "print(response)\n",
    "# assistant 삭제\n",
    "response = client.beta.assistants.delete(assistant.id)\n",
    "print(response)"
   ]
  },
  {
   "cell_type": "code",
   "execution_count": 13,
   "metadata": {},
   "outputs": [
    {
     "name": "stdout",
     "output_type": "stream",
     "text": [
      "AssistantDeleted(id='asst_90ls4Pbf8Aa7tWEMUnsQbYw2', deleted=True, object='assistant.deleted')\n"
     ]
    }
   ],
   "source": [
    "# assistant 삭제\n",
    "response = client.beta.assistants.delete(assistant.id)"
   ]
  },
  {
   "cell_type": "code",
   "execution_count": null,
   "metadata": {},
   "outputs": [],
   "source": []
  }
 ],
 "metadata": {
  "kernelspec": {
   "display_name": "ch05",
   "language": "python",
   "name": "python3"
  },
  "language_info": {
   "codemirror_mode": {
    "name": "ipython",
    "version": 3
   },
   "file_extension": ".py",
   "mimetype": "text/x-python",
   "name": "python",
   "nbconvert_exporter": "python",
   "pygments_lexer": "ipython3",
   "version": "3.11.0"
  }
 },
 "nbformat": 4,
 "nbformat_minor": 2
}
