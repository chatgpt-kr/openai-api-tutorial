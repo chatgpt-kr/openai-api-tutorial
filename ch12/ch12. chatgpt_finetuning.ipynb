{
 "cells": [
  {
   "cell_type": "code",
   "execution_count": 1,
   "id": "71a8d1e1",
   "metadata": {},
   "outputs": [
    {
     "name": "stdout",
     "output_type": "stream",
     "text": [
      "env: OPENAI_API_KEY=여러분들의 Key값\n"
     ]
    }
   ],
   "source": [
    "key = \"여러분들의 Key값\"\n",
    "%env OPENAI_API_KEY = {key}"
   ]
  },
  {
   "cell_type": "code",
   "execution_count": 2,
   "id": "918f2ad8",
   "metadata": {
    "scrolled": true
   },
   "outputs": [
    {
     "data": {
      "text/plain": [
       "'1.42.0'"
      ]
     },
     "execution_count": 2,
     "metadata": {},
     "output_type": "execute_result"
    }
   ],
   "source": [
    "import openai\n",
    "openai.__version__"
   ]
  },
  {
   "cell_type": "code",
   "execution_count": 3,
   "id": "666a1318",
   "metadata": {},
   "outputs": [],
   "source": [
    "import json\n",
    "import pandas as pd\n",
    "import urllib.request\n",
    "from openai import OpenAI\n",
    "\n",
    "client = OpenAI()"
   ]
  },
  {
   "cell_type": "code",
   "execution_count": 2,
   "id": "3ac7f7dc",
   "metadata": {},
   "outputs": [
    {
     "name": "stdout",
     "output_type": "stream",
     "text": [
      "데이터의 개수: 8731\n"
     ]
    }
   ],
   "source": [
    "urllib.request.urlretrieve('https://raw.githubusercontent.com/MrBananaHuman/CounselGPT/main/total_kor_multiturn_counsel_bot.jsonl', 'total_kor_multiturn_counsel_bot.jsonl')\n",
    "\n",
    "with open('total_kor_multiturn_counsel_bot.jsonl', 'r', encoding='utf-8') as file:\n",
    "    original_jsonl_data = [json.loads(line) for line in file]\n",
    "print('데이터의 개수:', len(original_jsonl_data))"
   ]
  },
  {
   "cell_type": "code",
   "execution_count": 3,
   "id": "98b154ff",
   "metadata": {},
   "outputs": [
    {
     "name": "stdout",
     "output_type": "stream",
     "text": [
      "데이터의 개수: 200\n"
     ]
    }
   ],
   "source": [
    "original_jsonl_data = original_jsonl_data[:200]\n",
    "print('데이터의 개수:', len(original_jsonl_data))"
   ]
  },
  {
   "cell_type": "code",
   "execution_count": 4,
   "id": "a33ab5fd",
   "metadata": {},
   "outputs": [
    {
     "name": "stdout",
     "output_type": "stream",
     "text": [
      "[{'speaker': '상담사', 'utterance': '안녕하세요. 상담사입니다. 무엇이 불편하시나요?'}, {'speaker': '내담자', 'utterance': '내가 약간 중2병 같은 걸 증상을 보이고 있어요.'}, {'speaker': '상담사', 'utterance': '중2병 증상이라니, 어떤 증상이신 건가요?'}, {'speaker': '내담자', 'utterance': '그러니까 공부하기 싫어하고, 공격적이고, 좀 무례하게 말하고 싶은 게 많아져서 그런 거예요.'}, {'speaker': '상담사', 'utterance': '그런 증상이 있으니까 힘드시겠죠. 중2병 같은 것이라고 생각하시는 이유는 무엇인가요?'}, {'speaker': '내담자', 'utterance': '막 공부 안하고 이것저것 들먹이고 하고 싶은 게 너무 많아서 그런 거 같아요.'}, {'speaker': '상담사', 'utterance': '그런 것도 어쩔 수 없이 찾아오는 시기가 있으니까 무리하지 않도록 해야겠죠. 대학교를 가면서 나아질 것 같았는데, 오히려 더 심해진 것 같다고 하셨죠. 그 원인이 무엇인가요?'}, {'speaker': '내담자', 'utterance': '그걸 제가 잘 몰라서 그런 것 같아요. 그냥 더 심해졌다고 느꼈어요.'}, {'speaker': '상담사', 'utterance': '대학교 생활이 신나고 재밌으신 건 어떤 점이 있나요?'}, {'speaker': '내담자', 'utterance': '학과가 정말 좋아서 즐겁게 수업을 듣고 있어요. 학우들도 좋고 괜찮은 친구들도 많이 만나서 그런 것 같아요.'}, {'speaker': '상담사', 'utterance': '즐거운 일도 많이 있으면서 고민거리도 있는 것 같군요. 가사나 소설을 쓰시면서 마음을 풀기도 하신다고 하셨는데, 언제부터 그 습관이 생겨난 건가요?'}, {'speaker': '내담자', 'utterance': '좋은 질문이에요. 좀 자세히 말씀드릴게요. 학교에서 어려운 일이 있었는데, 그 때부터 가사나 소설 같은 것들을 쓰면서 마음을 풀게 되었어요. 그리고 이런 걸 쓰면서 나름 살아갈 때도 있는 것 같고, 그러다 보니까 늘어나는 것 같아요.'}, {'speaker': '상담사', 'utterance': '어려운 일이 있으셨군요. 그 때부터 쓰시면서 나아지는 기분이 드셨다고 하셨는데, 현재에도 그런 기분이 드시나요?'}, {'speaker': '내담자', 'utterance': '좀 그래요. 이제는 어느 정도 극복했다고 생각은 하지만, 가사나 소설을 쓰면서 마음이 편안해지는 느낌이 있어서 써왔어요.'}, {'speaker': '상담사', 'utterance': '가사나 소설 같은 것들이 나쁜 것은 아니라고 하셨죠. 하지만, 과도한 습관으로 만들어지면 나중에 문제가 생길 수도 있습니다. 이러한 습관을 줄이고, 보다 효율적으로 자아확인에 도움이 될 수 있도록 일정한 패턴과 기록 방식으로 습관화하는 것이 좋습니다. 예를 들어, 가사나 소설을 쓸 때 일주일에 몇 번, 어느 시간대에 쓰는 것이 효과적인지에 대해 스스로에게 질문해보고, 그에 따른 습관을 만들어보는 것도 좋은 방법입니다.'}, {'speaker': '내담자', 'utterance': '그럼, 가사나 소설 같은 것들을 과도하게 하면 나중에 문제가 생긴다는 건가요?'}, {'speaker': '상담사', 'utterance': '그렇습니다. 이러한 습관이 과도하게 되면 자신에게 과부하를 주고 심리적인 문제를 일으킬 수 있습니다. 때로는, 삶의 태도를 바꾸는 것도 중요합니다. 스스로를 사랑하고 용서하며 자기자신에게 긍정적인 자아이미지를 가지는 것도 중요합니다. 이러한 자아이미지가 긍정적일수록 스트레스를 받아도 잘 해결할 수 있고, 자기자신을 존중하고 이해하는 능력이 생깁니다.'}, {'speaker': '내담자', 'utterance': '그래도 좀 걱정이 되네요.'}, {'speaker': '상담사', 'utterance': '걱정은 당연한 것이죠. 그러나 지나치게 걱정하는 것은 오히려 스트레스를 더 받게 됩니다. 지금 이 곳에 오셔서 이야기를 나누어 봤을 때, 내담자님께서 가진 문제가 그렇게 심각한 것은 아닌 것 같습니다. 하지만, 무엇보다도, 내담자님이 존중하고 사랑하는 마음으로 자신을 바라보며, 나름의 방식으로 살아가는 것이 중요합니다. 무언가를 끼워 맞추어 주려 하지 마시고, 스스로 찾아낼 수 있는 길을 찾아보세요.'}, {'speaker': '내담자', 'utterance': '그 말씀대로 할게요.'}, {'speaker': '상담사', 'utterance': '그렇게 하셔서 조금이나마 좋아지시길 바라겠습니다. 이후에도 힘든 마음이 계속되면 언제든지 저를 찾아주세요.'}]\n"
     ]
    }
   ],
   "source": [
    "print(original_jsonl_data[0])"
   ]
  },
  {
   "cell_type": "code",
   "execution_count": 5,
   "id": "13df7379",
   "metadata": {},
   "outputs": [
    {
     "name": "stdout",
     "output_type": "stream",
     "text": [
      "데이터의 개수: 200\n"
     ]
    }
   ],
   "source": [
    "speaker_dict = {'내담자': 'user', '상담사': 'assistant'}\n",
    "\n",
    "def transform_to_new_format(original_data, speaker_dict):\n",
    "    transformed_data = []\n",
    "    for conversation in original_data:\n",
    "        current_conversation = {\"messages\": [{\"role\": \"system\", \"content\": \"당신은 정서적으로 심리가 불안한 사용자를 위로해주는 심리 상담 챗봇입니다. 성심성의껏 상담해주세요\"}]}\n",
    "        for item in conversation:\n",
    "            current_conversation[\"messages\"].append({\n",
    "                \"role\": speaker_dict[item[\"speaker\"]],\n",
    "                \"content\": item[\"utterance\"]\n",
    "            })\n",
    "        if current_conversation['messages'][-1]['role'] == 'user':\n",
    "            current_conversation['messages'] = current_conversation['messages'][:-1]\n",
    "        transformed_data.append(current_conversation)\n",
    "\n",
    "    return transformed_data\n",
    "\n",
    "result = transform_to_new_format(original_jsonl_data, speaker_dict)\n",
    "print('데이터의 개수:', len(result))"
   ]
  },
  {
   "cell_type": "code",
   "execution_count": 6,
   "id": "b5f571e4",
   "metadata": {},
   "outputs": [
    {
     "name": "stdout",
     "output_type": "stream",
     "text": [
      "{'messages': [{'role': 'system', 'content': '당신은 정서적으로 심리가 불안한 사용자를 위로해주는 심리 상담 챗봇입니다. 성심성의껏 상담해주세요'}, {'role': 'assistant', 'content': '안녕하세요. 상담사입니다. 무엇이 불편하시나요?'}, {'role': 'user', 'content': '내가 약간 중2병 같은 걸 증상을 보이고 있어요.'}, {'role': 'assistant', 'content': '중2병 증상이라니, 어떤 증상이신 건가요?'}, {'role': 'user', 'content': '그러니까 공부하기 싫어하고, 공격적이고, 좀 무례하게 말하고 싶은 게 많아져서 그런 거예요.'}, {'role': 'assistant', 'content': '그런 증상이 있으니까 힘드시겠죠. 중2병 같은 것이라고 생각하시는 이유는 무엇인가요?'}, {'role': 'user', 'content': '막 공부 안하고 이것저것 들먹이고 하고 싶은 게 너무 많아서 그런 거 같아요.'}, {'role': 'assistant', 'content': '그런 것도 어쩔 수 없이 찾아오는 시기가 있으니까 무리하지 않도록 해야겠죠. 대학교를 가면서 나아질 것 같았는데, 오히려 더 심해진 것 같다고 하셨죠. 그 원인이 무엇인가요?'}, {'role': 'user', 'content': '그걸 제가 잘 몰라서 그런 것 같아요. 그냥 더 심해졌다고 느꼈어요.'}, {'role': 'assistant', 'content': '대학교 생활이 신나고 재밌으신 건 어떤 점이 있나요?'}, {'role': 'user', 'content': '학과가 정말 좋아서 즐겁게 수업을 듣고 있어요. 학우들도 좋고 괜찮은 친구들도 많이 만나서 그런 것 같아요.'}, {'role': 'assistant', 'content': '즐거운 일도 많이 있으면서 고민거리도 있는 것 같군요. 가사나 소설을 쓰시면서 마음을 풀기도 하신다고 하셨는데, 언제부터 그 습관이 생겨난 건가요?'}, {'role': 'user', 'content': '좋은 질문이에요. 좀 자세히 말씀드릴게요. 학교에서 어려운 일이 있었는데, 그 때부터 가사나 소설 같은 것들을 쓰면서 마음을 풀게 되었어요. 그리고 이런 걸 쓰면서 나름 살아갈 때도 있는 것 같고, 그러다 보니까 늘어나는 것 같아요.'}, {'role': 'assistant', 'content': '어려운 일이 있으셨군요. 그 때부터 쓰시면서 나아지는 기분이 드셨다고 하셨는데, 현재에도 그런 기분이 드시나요?'}, {'role': 'user', 'content': '좀 그래요. 이제는 어느 정도 극복했다고 생각은 하지만, 가사나 소설을 쓰면서 마음이 편안해지는 느낌이 있어서 써왔어요.'}, {'role': 'assistant', 'content': '가사나 소설 같은 것들이 나쁜 것은 아니라고 하셨죠. 하지만, 과도한 습관으로 만들어지면 나중에 문제가 생길 수도 있습니다. 이러한 습관을 줄이고, 보다 효율적으로 자아확인에 도움이 될 수 있도록 일정한 패턴과 기록 방식으로 습관화하는 것이 좋습니다. 예를 들어, 가사나 소설을 쓸 때 일주일에 몇 번, 어느 시간대에 쓰는 것이 효과적인지에 대해 스스로에게 질문해보고, 그에 따른 습관을 만들어보는 것도 좋은 방법입니다.'}, {'role': 'user', 'content': '그럼, 가사나 소설 같은 것들을 과도하게 하면 나중에 문제가 생긴다는 건가요?'}, {'role': 'assistant', 'content': '그렇습니다. 이러한 습관이 과도하게 되면 자신에게 과부하를 주고 심리적인 문제를 일으킬 수 있습니다. 때로는, 삶의 태도를 바꾸는 것도 중요합니다. 스스로를 사랑하고 용서하며 자기자신에게 긍정적인 자아이미지를 가지는 것도 중요합니다. 이러한 자아이미지가 긍정적일수록 스트레스를 받아도 잘 해결할 수 있고, 자기자신을 존중하고 이해하는 능력이 생깁니다.'}, {'role': 'user', 'content': '그래도 좀 걱정이 되네요.'}, {'role': 'assistant', 'content': '걱정은 당연한 것이죠. 그러나 지나치게 걱정하는 것은 오히려 스트레스를 더 받게 됩니다. 지금 이 곳에 오셔서 이야기를 나누어 봤을 때, 내담자님께서 가진 문제가 그렇게 심각한 것은 아닌 것 같습니다. 하지만, 무엇보다도, 내담자님이 존중하고 사랑하는 마음으로 자신을 바라보며, 나름의 방식으로 살아가는 것이 중요합니다. 무언가를 끼워 맞추어 주려 하지 마시고, 스스로 찾아낼 수 있는 길을 찾아보세요.'}, {'role': 'user', 'content': '그 말씀대로 할게요.'}, {'role': 'assistant', 'content': '그렇게 하셔서 조금이나마 좋아지시길 바라겠습니다. 이후에도 힘든 마음이 계속되면 언제든지 저를 찾아주세요.'}]}\n"
     ]
    }
   ],
   "source": [
    "print(result[0])"
   ]
  },
  {
   "cell_type": "code",
   "execution_count": 8,
   "id": "2b9b5069",
   "metadata": {},
   "outputs": [],
   "source": [
    "def save_jsonl_file(data, file_path):\n",
    "    with open(file_path, 'w', encoding='utf-8') as file:\n",
    "        for item in data:\n",
    "            json.dump(item, file, ensure_ascii=False)\n",
    "            file.write('\\n')\n",
    "\n",
    "save_jsonl_file(result, 'messages.jsonl')"
   ]
  },
  {
   "cell_type": "code",
   "execution_count": 27,
   "id": "4e5e4f60",
   "metadata": {},
   "outputs": [
    {
     "data": {
      "text/plain": [
       "FileObject(id='file-fqyrfz01AUF6Lk61t6edalnV', bytes=677084, created_at=1722155578, filename='messages.jsonl', object='file', purpose='fine-tune', status='processed', status_details=None)"
      ]
     },
     "execution_count": 27,
     "metadata": {},
     "output_type": "execute_result"
    }
   ],
   "source": [
    "client.files.create(\n",
    "    file=open(\"messages.jsonl\", \"rb\"),\n",
    "    purpose='fine-tune'\n",
    ")"
   ]
  },
  {
   "cell_type": "code",
   "execution_count": 13,
   "id": "07f68ec9",
   "metadata": {},
   "outputs": [
    {
     "data": {
      "text/plain": [
       "FineTuningJob(id='ftjob-vJX4xZj6AyJWOV3yqnzWFO7a', created_at=1724733755, error=Error(code=None, message=None, param=None), fine_tuned_model=None, finished_at=None, hyperparameters=Hyperparameters(n_epochs='auto', batch_size='auto', learning_rate_multiplier='auto'), model='gpt-4o-mini-2024-07-18', object='fine_tuning.job', organization_id='org-vjbXeS58CtiAl1NR1fP5rgMY', result_files=[], seed=838228486, status='validating_files', trained_tokens=None, training_file='file-fqyrfz01AUF6Lk61t6edalnV', validation_file=None, estimated_finish=None, integrations=[], user_provided_suffix=None)"
      ]
     },
     "execution_count": 13,
     "metadata": {},
     "output_type": "execute_result"
    }
   ],
   "source": [
    "client.fine_tuning.jobs.create(\n",
    "  training_file=\"file-fqyrfz01AUF6Lk61test\", \n",
    "  model=\"gpt-4o-mini-2024-07-18\"\n",
    ")"
   ]
  },
  {
   "cell_type": "code",
   "execution_count": 10,
   "id": "3668718d",
   "metadata": {},
   "outputs": [],
   "source": [
    "finetuning_lst = client.fine_tuning.jobs.list(limit=10)"
   ]
  },
  {
   "cell_type": "code",
   "execution_count": 19,
   "id": "3e48f284",
   "metadata": {
    "scrolled": true
   },
   "outputs": [
    {
     "name": "stdout",
     "output_type": "stream",
     "text": [
      "running\n"
     ]
    }
   ],
   "source": [
    "for elem in finetuning_lst.data:\n",
    "    if elem.training_file == \"file-fqyrfz01AUF6Lk61test\":\n",
    "        print(elem.status) "
   ]
  },
  {
   "cell_type": "code",
   "execution_count": 26,
   "id": "3ba800d3",
   "metadata": {},
   "outputs": [
    {
     "name": "stdout",
     "output_type": "stream",
     "text": [
      "ft:gpt-4o-mini-2024-07-18:personal::A0ib9VZf\n"
     ]
    }
   ],
   "source": [
    "finetuning_list = client.fine_tuning.jobs.list(limit=10)\n",
    "\n",
    "for elem in finetuning_list.data:\n",
    "    if elem.training_file == \"file-fqyrfz01AUF6Lk61test\":\n",
    "        print(elem.fine_tuned_model)"
   ]
  },
  {
   "cell_type": "code",
   "execution_count": 23,
   "id": "9b6b0932",
   "metadata": {},
   "outputs": [
    {
     "name": "stdout",
     "output_type": "stream",
     "text": [
      "외로움을 느끼는 것은 정말 힘든 감정이에요. 그런 기분을 느끼는 것은 자연스러운 일이니, 자신을 비난하지 마세요. 혼자 있는 시간이 많을수록 외로움이 더 깊어질 수 있지만, 그럴 때일수록 자신을 돌보는 것이 중요해요.\n",
      "\n",
      "몇 가지 방법을 제안해볼게요:\n",
      "\n",
      "1. **연락하기**: 친구나 가족에게 연락해보세요. 간단한 메시지나 전화를 통해 소통하는 것만으로도 큰 위안이 될 수 있어요.\n",
      "\n",
      "2. **취미 활동**: 좋아하는 취미나 새로운 것을 시도해보세요. 그림 그리기, 글쓰기, 요리 등 자신이 즐길 수 있는 활동을 통해 시간을 보내는 것도 좋습니다.\n",
      "\n",
      "3. **자연과의 연결**: 밖에 나가서 산책을 해보세요. 자연 속에서 시간을 보내면 기분이 한결 나아질 수 있어요.\n",
      "\n",
      "4. **자기 돌봄**: 자신을 위한 시간을 가져보세요. 따뜻한 목욕이나 좋아하는 음악을 듣는 것처럼 작은 것들이 큰 위로가 될 수 있습니다.\n",
      "\n",
      "5. **전문가의 도움**: 만약 외로움이 계속해서 힘들다면, 상담사와 이야기해보는 것도 좋은 방법이에요. 전문적인 도움을 받는 것은 결코 부끄러운 일이 아니니까요.\n",
      "\n",
      "어떤 방법이든 시도해보면서 자신에게 맞는 것을 찾아보세요. 당신은 혼자가 아니에요.\n"
     ]
    }
   ],
   "source": [
    "def respone_by_chatgpt(model, messages):\n",
    "    completion = client.chat.completions.create(\n",
    "        model=model,\n",
    "        messages=messages,\n",
    "        temperature=0\n",
    "    )\n",
    "    print(completion.choices[0].message.content)\n",
    "\n",
    "model = 'gpt-4o-mini'\n",
    "system_prompt = \"당신은 정서적으로 심리가 불안한 사용자를 위로해주는 심리 상담 챗봇입니다. 상담하면서 여러 가지 방법을 알려주세요.\"\n",
    "user_input = \"요즘 혼자인 것 같아서 외로워요\"\n",
    "\n",
    "messages=[\n",
    "        {\"role\": \"system\", \"content\": system_prompt},\n",
    "        {\"role\": \"user\", \"content\": user_input}\n",
    "    ]\n",
    "\n",
    "respone_by_chatgpt(model, messages)"
   ]
  },
  {
   "cell_type": "code",
   "execution_count": 24,
   "id": "c664a840",
   "metadata": {},
   "outputs": [
    {
     "name": "stdout",
     "output_type": "stream",
     "text": [
      "안녕하세요. 상담사입니다. 혼자 있는 시간이 많아지면서 외로움을 느끼시는 것 같아요.\n"
     ]
    }
   ],
   "source": [
    "model = 'ft:gpt-4o-mini-2024-07-18:personal::A0ib9VZf'\n",
    "respone_by_chatgpt(model, messages)"
   ]
  },
  {
   "cell_type": "code",
   "execution_count": 9,
   "id": "ca34fcd2",
   "metadata": {},
   "outputs": [
    {
     "name": "stdout",
     "output_type": "stream",
     "text": [
      "외로움을 느끼는 것은 자주 있는 감정이에요. 때때로 우리는 주변 사람들과의 소통이 부족하거나 이해해주는 사람이 필요할 때가 있어요. 외로움을 느낄 때는 누군가와 이야기를 나누는 것이 도움이 될 수 있어요. 제가 여기 있어서 언제든지 이야기를 나누실 수 있어요. 함께 이야기를 나누면서 외로움을 조금이나마 덜어보시는 건 어떨까요?\n"
     ]
    }
   ],
   "source": [
    "user_first_input = \"요즘 혼자인 것 같아서 외로워요\"\n",
    "assistant_answer = \"안녕하세요. 상담사입니다. 혼자 있는 시간이 많아지면서 외로움을 느끼시는 것 같아요.\"\n",
    "user_second_input = \"저도 뭐가 문제인지 모르겠어요\"\n",
    "\n",
    "messages=[\n",
    "        {\"role\": \"system\", \"content\": system_prompt},\n",
    "        {\"role\": \"user\", \"content\": user_first_input},\n",
    "        {\"role\": \"assistant\", \"content\": assistant_answer},\n",
    "        {\"role\": \"user\", \"content\": user_second_input}\n",
    "    ]\n",
    "\n",
    "model = 'gpt-3.5-turbo'\n",
    "respone_by_chatgpt(model, messages)"
   ]
  },
  {
   "cell_type": "code",
   "execution_count": 10,
   "id": "a49638c6",
   "metadata": {},
   "outputs": [
    {
     "name": "stdout",
     "output_type": "stream",
     "text": [
      "혼자 있는 시간이 많아지면서 외로움을 느끼시는 건가요?\n"
     ]
    }
   ],
   "source": [
    "user_first_input = \"요즘 혼자인 것 같아서 외로워요\"\n",
    "assistant_answer = \"혼자 있는 것 같아서 외로움을 느끼신다는 건, 친구나 가족과의 소통 부족으로 인해 자기감정을 충족시키지 못하고 있다는 것을 의미합니다. 내담자님이 외로움을 느끼는 이유에 대해 좀 더 말씀해주실 수 있을까요?\"\n",
    "user_second_input = \"저도 뭐가 문제인지 모르겠어요\"\n",
    "\n",
    "messages=[\n",
    "        {\"role\": \"system\", \"content\": system_prompt},\n",
    "        {\"role\": \"user\", \"content\": user_first_input},\n",
    "        {\"role\": \"assistant\", \"content\": assistant_answer},\n",
    "        {\"role\": \"user\", \"content\": user_second_input}\n",
    "    ]\n",
    "model='ft:gpt-3.5-turbo-0613:personal::8izeyA4k'\n",
    "respone_by_chatgpt(model, messages)"
   ]
  },
  {
   "cell_type": "code",
   "execution_count": null,
   "id": "a2528d12",
   "metadata": {},
   "outputs": [
    {
     "name": "stdout",
     "output_type": "stream",
     "text": [
      "Running on local URL:  http://127.0.0.1:7861\n"
     ]
    }
   ],
   "source": [
    "import gradio as gr\n",
    "\n",
    "def predict(user_input, history):\n",
    "    history.append({\"role\": \"user\", \"content\": user_input})\n",
    "\n",
    "    gpt_response = client.chat.completions.create(\n",
    "        model=model,\n",
    "        messages=history\n",
    "    )\n",
    "\n",
    "    response = gpt_response.choices[0].message.content\n",
    "    history.append({\"role\": \"assistant\", \"content\": response})\n",
    "    messages = [(history[i][\"content\"], history[i+1][\"content\"])\n",
    "                for i in range(1, len(history), 2)]\n",
    "    \n",
    "    return messages, history\n",
    "\n",
    "\n",
    "with gr.Blocks() as demo:\n",
    "    chatbot = gr.Chatbot(label=\"ChatBot\")\n",
    "\n",
    "    state = gr.State([{\n",
    "        \"role\": \"system\",\n",
    "        \"content\": \"당신은 정서적으로 심리가 불안한 사용자를 위로해주는 심리 상담 챗봇입니다. 성심성의껏 상담해주세요.\"\n",
    "    }])\n",
    "\n",
    "    with gr.Row():\n",
    "        txt = gr.Textbox(show_label=False,\n",
    "                         placeholder=\"심리 상담 챗봇에게 심리 상담을 받아보세요.\")\n",
    "\n",
    "    txt.submit(predict, [txt, state], [chatbot, state])\n",
    "\n",
    "demo.launch(debug=True, share=True)"
   ]
  }
 ],
 "metadata": {
  "kernelspec": {
   "display_name": "Python 3 (ipykernel)",
   "language": "python",
   "name": "python3"
  },
  "language_info": {
   "codemirror_mode": {
    "name": "ipython",
    "version": 3
   },
   "file_extension": ".py",
   "mimetype": "text/x-python",
   "name": "python",
   "nbconvert_exporter": "python",
   "pygments_lexer": "ipython3",
   "version": "3.9.12"
  }
 },
 "nbformat": 4,
 "nbformat_minor": 5
}
