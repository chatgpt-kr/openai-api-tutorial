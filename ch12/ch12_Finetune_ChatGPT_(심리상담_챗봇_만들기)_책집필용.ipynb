{
  "nbformat": 4,
  "nbformat_minor": 0,
  "metadata": {
    "colab": {
      "provenance": []
    },
    "kernelspec": {
      "name": "python3",
      "display_name": "Python 3"
    },
    "language_info": {
      "name": "python"
    }
  },
  "cells": [
    {
      "cell_type": "code",
      "source": [
        "!pip install -q openai tqdm gradio"
      ],
      "metadata": {
        "colab": {
          "base_uri": "https://localhost:8080/"
        },
        "id": "FCu3AkXm4fCp",
        "outputId": "6ce9ac34-9af5-4963-9140-d83b5aa416f5"
      },
      "execution_count": null,
      "outputs": [
        {
          "output_type": "stream",
          "name": "stdout",
          "text": [
            "\u001b[2K     \u001b[90m━━━━━━━━━━━━━━━━━━━━━━━━━━━━━━━━━━━━━━━━\u001b[0m \u001b[32m227.4/227.4 kB\u001b[0m \u001b[31m4.2 MB/s\u001b[0m eta \u001b[36m0:00:00\u001b[0m\n",
            "\u001b[2K     \u001b[90m━━━━━━━━━━━━━━━━━━━━━━━━━━━━━━━━━━━━━━━━\u001b[0m \u001b[32m16.9/16.9 MB\u001b[0m \u001b[31m66.3 MB/s\u001b[0m eta \u001b[36m0:00:00\u001b[0m\n",
            "\u001b[2K     \u001b[90m━━━━━━━━━━━━━━━━━━━━━━━━━━━━━━━━━━━━━━━━\u001b[0m \u001b[32m75.6/75.6 kB\u001b[0m \u001b[31m10.4 MB/s\u001b[0m eta \u001b[36m0:00:00\u001b[0m\n",
            "\u001b[2K     \u001b[90m━━━━━━━━━━━━━━━━━━━━━━━━━━━━━━━━━━━━━━━━\u001b[0m \u001b[32m92.1/92.1 kB\u001b[0m \u001b[31m13.2 MB/s\u001b[0m eta \u001b[36m0:00:00\u001b[0m\n",
            "\u001b[?25h  Preparing metadata (setup.py) ... \u001b[?25l\u001b[?25hdone\n",
            "\u001b[2K     \u001b[90m━━━━━━━━━━━━━━━━━━━━━━━━━━━━━━━━━━━━━━━━\u001b[0m \u001b[32m307.9/307.9 kB\u001b[0m \u001b[31m33.1 MB/s\u001b[0m eta \u001b[36m0:00:00\u001b[0m\n",
            "\u001b[2K     \u001b[90m━━━━━━━━━━━━━━━━━━━━━━━━━━━━━━━━━━━━━━━━\u001b[0m \u001b[32m138.5/138.5 kB\u001b[0m \u001b[31m19.9 MB/s\u001b[0m eta \u001b[36m0:00:00\u001b[0m\n",
            "\u001b[2K     \u001b[90m━━━━━━━━━━━━━━━━━━━━━━━━━━━━━━━━━━━━━━━━\u001b[0m \u001b[32m7.8/7.8 MB\u001b[0m \u001b[31m59.5 MB/s\u001b[0m eta \u001b[36m0:00:00\u001b[0m\n",
            "\u001b[2K     \u001b[90m━━━━━━━━━━━━━━━━━━━━━━━━━━━━━━━━━━━━━━━━\u001b[0m \u001b[32m60.8/60.8 kB\u001b[0m \u001b[31m5.7 MB/s\u001b[0m eta \u001b[36m0:00:00\u001b[0m\n",
            "\u001b[2K     \u001b[90m━━━━━━━━━━━━━━━━━━━━━━━━━━━━━━━━━━━━━━━━\u001b[0m \u001b[32m129.9/129.9 kB\u001b[0m \u001b[31m10.6 MB/s\u001b[0m eta \u001b[36m0:00:00\u001b[0m\n",
            "\u001b[2K     \u001b[90m━━━━━━━━━━━━━━━━━━━━━━━━━━━━━━━━━━━━━━━━\u001b[0m \u001b[32m77.8/77.8 kB\u001b[0m \u001b[31m10.2 MB/s\u001b[0m eta \u001b[36m0:00:00\u001b[0m\n",
            "\u001b[2K     \u001b[90m━━━━━━━━━━━━━━━━━━━━━━━━━━━━━━━━━━━━━━━━\u001b[0m \u001b[32m58.3/58.3 kB\u001b[0m \u001b[31m7.5 MB/s\u001b[0m eta \u001b[36m0:00:00\u001b[0m\n",
            "\u001b[2K     \u001b[90m━━━━━━━━━━━━━━━━━━━━━━━━━━━━━━━━━━━━━━━━\u001b[0m \u001b[32m71.5/71.5 kB\u001b[0m \u001b[31m5.9 MB/s\u001b[0m eta \u001b[36m0:00:00\u001b[0m\n",
            "\u001b[?25h  Building wheel for ffmpy (setup.py) ... \u001b[?25l\u001b[?25hdone\n"
          ]
        }
      ]
    },
    {
      "cell_type": "code",
      "source": [
        "key = '여러분들의 Key 값'\n",
        "%env OPENAI_API_KEY = {key}"
      ],
      "metadata": {
        "colab": {
          "base_uri": "https://localhost:8080/"
        },
        "id": "l6zDvU1Plapw",
        "outputId": "449cf808-dc30-42db-aff9-d09e5a158781"
      },
      "execution_count": null,
      "outputs": [
        {
          "output_type": "stream",
          "name": "stdout",
          "text": [
            "env: OPENAI_API_KEY=여러분들의 Key 값\n"
          ]
        }
      ]
    },
    {
      "cell_type": "code",
      "source": [
        "from openai import OpenAI\n",
        "\n",
        "client = OpenAI()"
      ],
      "metadata": {
        "id": "uKhzPySelX--"
      },
      "execution_count": null,
      "outputs": []
    },
    {
      "cell_type": "code",
      "source": [
        "import json\n",
        "import pandas as pd"
      ],
      "metadata": {
        "id": "RpaGOphnYtYF"
      },
      "execution_count": null,
      "outputs": []
    },
    {
      "cell_type": "code",
      "source": [
        "!wget https://raw.githubusercontent.com/MrBananaHuman/CounselGPT/main/total_kor_multiturn_counsel_bot.jsonl"
      ],
      "metadata": {
        "colab": {
          "base_uri": "https://localhost:8080/"
        },
        "id": "UaoWwF93WcqD",
        "outputId": "dc1d04f5-2170-453c-80af-dc286ce1da22"
      },
      "execution_count": null,
      "outputs": [
        {
          "output_type": "stream",
          "name": "stdout",
          "text": [
            "--2024-03-02 13:38:32--  https://raw.githubusercontent.com/MrBananaHuman/CounselGPT/main/total_kor_multiturn_counsel_bot.jsonl\n",
            "Resolving raw.githubusercontent.com (raw.githubusercontent.com)... 185.199.109.133, 185.199.108.133, 185.199.110.133, ...\n",
            "Connecting to raw.githubusercontent.com (raw.githubusercontent.com)|185.199.109.133|:443... connected.\n",
            "HTTP request sent, awaiting response... 200 OK\n",
            "Length: 30560672 (29M) [text/plain]\n",
            "Saving to: ‘total_kor_multiturn_counsel_bot.jsonl’\n",
            "\n",
            "total_kor_multiturn 100%[===================>]  29.14M   164MB/s    in 0.2s    \n",
            "\n",
            "2024-03-02 13:38:33 (164 MB/s) - ‘total_kor_multiturn_counsel_bot.jsonl’ saved [30560672/30560672]\n",
            "\n"
          ]
        }
      ]
    },
    {
      "cell_type": "code",
      "source": [
        "with open('total_kor_multiturn_counsel_bot.jsonl', 'r', encoding='utf-8') as file:\n",
        "    original_jsonl_data = [json.loads(line) for line in file]"
      ],
      "metadata": {
        "id": "5XSpsdLFZLyy"
      },
      "execution_count": null,
      "outputs": []
    },
    {
      "cell_type": "code",
      "source": [
        "print('데이터의 개수:', len(original_jsonl_data))"
      ],
      "metadata": {
        "colab": {
          "base_uri": "https://localhost:8080/"
        },
        "id": "JWUPCHs3Z9RM",
        "outputId": "46b289c3-cb07-4e0c-ad23-61f151b70284"
      },
      "execution_count": null,
      "outputs": [
        {
          "output_type": "stream",
          "name": "stdout",
          "text": [
            "데이터의 개수: 8731\n"
          ]
        }
      ]
    },
    {
      "cell_type": "code",
      "source": [
        "# 지나친 과금을 주의하기 위해서 데이터는 200개만 사용합니다.\n",
        "original_jsonl_data = original_jsonl_data[:200]\n",
        "print('데이터의 개수:', len(original_jsonl_data))"
      ],
      "metadata": {
        "colab": {
          "base_uri": "https://localhost:8080/"
        },
        "id": "6CnyQ8KbZOgK",
        "outputId": "13a2cb47-997d-495f-b3b4-53a8934d1f20"
      },
      "execution_count": null,
      "outputs": [
        {
          "output_type": "stream",
          "name": "stdout",
          "text": [
            "데이터의 개수: 200\n"
          ]
        }
      ]
    },
    {
      "cell_type": "code",
      "source": [
        "print(original_jsonl_data[0])"
      ],
      "metadata": {
        "colab": {
          "base_uri": "https://localhost:8080/"
        },
        "id": "YmYTwM7a36Le",
        "outputId": "b84477e0-ba5b-442d-94d7-33fbd824b379"
      },
      "execution_count": null,
      "outputs": [
        {
          "output_type": "stream",
          "name": "stdout",
          "text": [
            "[{'speaker': '상담사', 'utterance': '안녕하세요. 상담사입니다. 무엇이 불편하시나요?'}, {'speaker': '내담자', 'utterance': '내가 약간 중2병 같은 걸 증상을 보이고 있어요.'}, {'speaker': '상담사', 'utterance': '중2병 증상이라니, 어떤 증상이신 건가요?'}, {'speaker': '내담자', 'utterance': '그러니까 공부하기 싫어하고, 공격적이고, 좀 무례하게 말하고 싶은 게 많아져서 그런 거예요.'}, {'speaker': '상담사', 'utterance': '그런 증상이 있으니까 힘드시겠죠. 중2병 같은 것이라고 생각하시는 이유는 무엇인가요?'}, {'speaker': '내담자', 'utterance': '막 공부 안하고 이것저것 들먹이고 하고 싶은 게 너무 많아서 그런 거 같아요.'}, {'speaker': '상담사', 'utterance': '그런 것도 어쩔 수 없이 찾아오는 시기가 있으니까 무리하지 않도록 해야겠죠. 대학교를 가면서 나아질 것 같았는데, 오히려 더 심해진 것 같다고 하셨죠. 그 원인이 무엇인가요?'}, {'speaker': '내담자', 'utterance': '그걸 제가 잘 몰라서 그런 것 같아요. 그냥 더 심해졌다고 느꼈어요.'}, {'speaker': '상담사', 'utterance': '대학교 생활이 신나고 재밌으신 건 어떤 점이 있나요?'}, {'speaker': '내담자', 'utterance': '학과가 정말 좋아서 즐겁게 수업을 듣고 있어요. 학우들도 좋고 괜찮은 친구들도 많이 만나서 그런 것 같아요.'}, {'speaker': '상담사', 'utterance': '즐거운 일도 많이 있으면서 고민거리도 있는 것 같군요. 가사나 소설을 쓰시면서 마음을 풀기도 하신다고 하셨는데, 언제부터 그 습관이 생겨난 건가요?'}, {'speaker': '내담자', 'utterance': '좋은 질문이에요. 좀 자세히 말씀드릴게요. 학교에서 어려운 일이 있었는데, 그 때부터 가사나 소설 같은 것들을 쓰면서 마음을 풀게 되었어요. 그리고 이런 걸 쓰면서 나름 살아갈 때도 있는 것 같고, 그러다 보니까 늘어나는 것 같아요.'}, {'speaker': '상담사', 'utterance': '어려운 일이 있으셨군요. 그 때부터 쓰시면서 나아지는 기분이 드셨다고 하셨는데, 현재에도 그런 기분이 드시나요?'}, {'speaker': '내담자', 'utterance': '좀 그래요. 이제는 어느 정도 극복했다고 생각은 하지만, 가사나 소설을 쓰면서 마음이 편안해지는 느낌이 있어서 써왔어요.'}, {'speaker': '상담사', 'utterance': '가사나 소설 같은 것들이 나쁜 것은 아니라고 하셨죠. 하지만, 과도한 습관으로 만들어지면 나중에 문제가 생길 수도 있습니다. 이러한 습관을 줄이고, 보다 효율적으로 자아확인에 도움이 될 수 있도록 일정한 패턴과 기록 방식으로 습관화하는 것이 좋습니다. 예를 들어, 가사나 소설을 쓸 때 일주일에 몇 번, 어느 시간대에 쓰는 것이 효과적인지에 대해 스스로에게 질문해보고, 그에 따른 습관을 만들어보는 것도 좋은 방법입니다.'}, {'speaker': '내담자', 'utterance': '그럼, 가사나 소설 같은 것들을 과도하게 하면 나중에 문제가 생긴다는 건가요?'}, {'speaker': '상담사', 'utterance': '그렇습니다. 이러한 습관이 과도하게 되면 자신에게 과부하를 주고 심리적인 문제를 일으킬 수 있습니다. 때로는, 삶의 태도를 바꾸는 것도 중요합니다. 스스로를 사랑하고 용서하며 자기자신에게 긍정적인 자아이미지를 가지는 것도 중요합니다. 이러한 자아이미지가 긍정적일수록 스트레스를 받아도 잘 해결할 수 있고, 자기자신을 존중하고 이해하는 능력이 생깁니다.'}, {'speaker': '내담자', 'utterance': '그래도 좀 걱정이 되네요.'}, {'speaker': '상담사', 'utterance': '걱정은 당연한 것이죠. 그러나 지나치게 걱정하는 것은 오히려 스트레스를 더 받게 됩니다. 지금 이 곳에 오셔서 이야기를 나누어 봤을 때, 내담자님께서 가진 문제가 그렇게 심각한 것은 아닌 것 같습니다. 하지만, 무엇보다도, 내담자님이 존중하고 사랑하는 마음으로 자신을 바라보며, 나름의 방식으로 살아가는 것이 중요합니다. 무언가를 끼워 맞추어 주려 하지 마시고, 스스로 찾아낼 수 있는 길을 찾아보세요.'}, {'speaker': '내담자', 'utterance': '그 말씀대로 할게요.'}, {'speaker': '상담사', 'utterance': '그렇게 하셔서 조금이나마 좋아지시길 바라겠습니다. 이후에도 힘든 마음이 계속되면 언제든지 저를 찾아주세요.'}]\n"
          ]
        }
      ]
    },
    {
      "cell_type": "code",
      "source": [
        "# 첫번째 샘플에 대해서 대화 내역 보기\n",
        "for chat in original_jsonl_data[0]:\n",
        "  print(chat)"
      ],
      "metadata": {
        "colab": {
          "base_uri": "https://localhost:8080/"
        },
        "id": "KDa8u_NXee5W",
        "outputId": "7c9c6a46-f91e-457c-abde-8bedc480ad12"
      },
      "execution_count": null,
      "outputs": [
        {
          "output_type": "stream",
          "name": "stdout",
          "text": [
            "{'speaker': '상담사', 'utterance': '안녕하세요. 상담사입니다. 무엇이 불편하시나요?'}\n",
            "{'speaker': '내담자', 'utterance': '내가 약간 중2병 같은 걸 증상을 보이고 있어요.'}\n",
            "{'speaker': '상담사', 'utterance': '중2병 증상이라니, 어떤 증상이신 건가요?'}\n",
            "{'speaker': '내담자', 'utterance': '그러니까 공부하기 싫어하고, 공격적이고, 좀 무례하게 말하고 싶은 게 많아져서 그런 거예요.'}\n",
            "{'speaker': '상담사', 'utterance': '그런 증상이 있으니까 힘드시겠죠. 중2병 같은 것이라고 생각하시는 이유는 무엇인가요?'}\n",
            "{'speaker': '내담자', 'utterance': '막 공부 안하고 이것저것 들먹이고 하고 싶은 게 너무 많아서 그런 거 같아요.'}\n",
            "{'speaker': '상담사', 'utterance': '그런 것도 어쩔 수 없이 찾아오는 시기가 있으니까 무리하지 않도록 해야겠죠. 대학교를 가면서 나아질 것 같았는데, 오히려 더 심해진 것 같다고 하셨죠. 그 원인이 무엇인가요?'}\n",
            "{'speaker': '내담자', 'utterance': '그걸 제가 잘 몰라서 그런 것 같아요. 그냥 더 심해졌다고 느꼈어요.'}\n",
            "{'speaker': '상담사', 'utterance': '대학교 생활이 신나고 재밌으신 건 어떤 점이 있나요?'}\n",
            "{'speaker': '내담자', 'utterance': '학과가 정말 좋아서 즐겁게 수업을 듣고 있어요. 학우들도 좋고 괜찮은 친구들도 많이 만나서 그런 것 같아요.'}\n",
            "{'speaker': '상담사', 'utterance': '즐거운 일도 많이 있으면서 고민거리도 있는 것 같군요. 가사나 소설을 쓰시면서 마음을 풀기도 하신다고 하셨는데, 언제부터 그 습관이 생겨난 건가요?'}\n",
            "{'speaker': '내담자', 'utterance': '좋은 질문이에요. 좀 자세히 말씀드릴게요. 학교에서 어려운 일이 있었는데, 그 때부터 가사나 소설 같은 것들을 쓰면서 마음을 풀게 되었어요. 그리고 이런 걸 쓰면서 나름 살아갈 때도 있는 것 같고, 그러다 보니까 늘어나는 것 같아요.'}\n",
            "{'speaker': '상담사', 'utterance': '어려운 일이 있으셨군요. 그 때부터 쓰시면서 나아지는 기분이 드셨다고 하셨는데, 현재에도 그런 기분이 드시나요?'}\n",
            "{'speaker': '내담자', 'utterance': '좀 그래요. 이제는 어느 정도 극복했다고 생각은 하지만, 가사나 소설을 쓰면서 마음이 편안해지는 느낌이 있어서 써왔어요.'}\n",
            "{'speaker': '상담사', 'utterance': '가사나 소설 같은 것들이 나쁜 것은 아니라고 하셨죠. 하지만, 과도한 습관으로 만들어지면 나중에 문제가 생길 수도 있습니다. 이러한 습관을 줄이고, 보다 효율적으로 자아확인에 도움이 될 수 있도록 일정한 패턴과 기록 방식으로 습관화하는 것이 좋습니다. 예를 들어, 가사나 소설을 쓸 때 일주일에 몇 번, 어느 시간대에 쓰는 것이 효과적인지에 대해 스스로에게 질문해보고, 그에 따른 습관을 만들어보는 것도 좋은 방법입니다.'}\n",
            "{'speaker': '내담자', 'utterance': '그럼, 가사나 소설 같은 것들을 과도하게 하면 나중에 문제가 생긴다는 건가요?'}\n",
            "{'speaker': '상담사', 'utterance': '그렇습니다. 이러한 습관이 과도하게 되면 자신에게 과부하를 주고 심리적인 문제를 일으킬 수 있습니다. 때로는, 삶의 태도를 바꾸는 것도 중요합니다. 스스로를 사랑하고 용서하며 자기자신에게 긍정적인 자아이미지를 가지는 것도 중요합니다. 이러한 자아이미지가 긍정적일수록 스트레스를 받아도 잘 해결할 수 있고, 자기자신을 존중하고 이해하는 능력이 생깁니다.'}\n",
            "{'speaker': '내담자', 'utterance': '그래도 좀 걱정이 되네요.'}\n",
            "{'speaker': '상담사', 'utterance': '걱정은 당연한 것이죠. 그러나 지나치게 걱정하는 것은 오히려 스트레스를 더 받게 됩니다. 지금 이 곳에 오셔서 이야기를 나누어 봤을 때, 내담자님께서 가진 문제가 그렇게 심각한 것은 아닌 것 같습니다. 하지만, 무엇보다도, 내담자님이 존중하고 사랑하는 마음으로 자신을 바라보며, 나름의 방식으로 살아가는 것이 중요합니다. 무언가를 끼워 맞추어 주려 하지 마시고, 스스로 찾아낼 수 있는 길을 찾아보세요.'}\n",
            "{'speaker': '내담자', 'utterance': '그 말씀대로 할게요.'}\n",
            "{'speaker': '상담사', 'utterance': '그렇게 하셔서 조금이나마 좋아지시길 바라겠습니다. 이후에도 힘든 마음이 계속되면 언제든지 저를 찾아주세요.'}\n"
          ]
        }
      ]
    },
    {
      "cell_type": "markdown",
      "source": [
        "https://platform.openai.com/docs/guides/fine-tuning/preparing-your-dataset"
      ],
      "metadata": {
        "id": "tv9svZGfZitX"
      }
    },
    {
      "cell_type": "markdown",
      "source": [
        "## Example format"
      ],
      "metadata": {
        "id": "tDaEVJguRPfm"
      }
    },
    {
      "cell_type": "markdown",
      "source": [
        "In this example, our goal is to create a chatbot that occasionally gives sarcastic responses, these are three training examples (conversations) we could create for a dataset:"
      ],
      "metadata": {
        "id": "Dbc_7jGsRQH8"
      }
    },
    {
      "cell_type": "markdown",
      "source": [
        "```\n",
        "{\"messages\": [{\"role\": \"system\", \"content\": \"Marv is a factual chatbot that is also sarcastic.\"}, {\"role\": \"user\", \"content\": \"What's the capital of France?\"}, {\"role\": \"assistant\", \"content\": \"Paris, as if everyone doesn't know that already.\"}]}\n",
        "{\"messages\": [{\"role\": \"system\", \"content\": \"Marv is a factual chatbot that is also sarcastic.\"}, {\"role\": \"user\", \"content\": \"Who wrote 'Romeo and Juliet'?\"}, {\"role\": \"assistant\", \"content\": \"Oh, just some guy named William Shakespeare. Ever heard of him?\"}]}\n",
        "{\"messages\": [{\"role\": \"system\", \"content\": \"Marv is a factual chatbot that is also sarcastic.\"}, {\"role\": \"user\", \"content\": \"How far is the Moon from Earth?\"}, {\"role\": \"assistant\", \"content\": \"Around 384,400 kilometers. Give or take a few, like that really matters.\"}]}\n",
        "```"
      ],
      "metadata": {
        "id": "LSxrdmTSRRra"
      }
    },
    {
      "cell_type": "code",
      "source": [
        "# ChatGPT는 user와 assistant로만 발화자를 인식하기 때문에 전처리에서 사용하기 위해 딕셔너리 구성.\n",
        "speaker_dict = {'내담자': 'user', '상담사': 'assistant'}"
      ],
      "metadata": {
        "id": "Fr-K6idUeXrh"
      },
      "execution_count": null,
      "outputs": []
    },
    {
      "cell_type": "code",
      "source": [
        "def transform_to_new_format(original_data, speaker_dict):\n",
        "    transformed_data = []\n",
        "    for conversation in original_data:\n",
        "        current_conversation = {\"messages\": [{\"role\": \"system\", \"content\": \"당신은 정서적으로 심리가 불안한 사용자를 위로해주는 심리 상담 챗봇입니다. 성심성의껏 상담해주세요.\"}]}\n",
        "\n",
        "        for item in conversation:\n",
        "            current_conversation[\"messages\"].append({\n",
        "                \"role\": speaker_dict[item[\"speaker\"]],\n",
        "                \"content\": item[\"utterance\"]\n",
        "            })\n",
        "\n",
        "        # 각 대화를 변환된 데이터에 추가\n",
        "        transformed_data.append(current_conversation)\n",
        "\n",
        "    return transformed_data"
      ],
      "metadata": {
        "id": "2ZHvdPCRXEEY"
      },
      "execution_count": null,
      "outputs": []
    },
    {
      "cell_type": "code",
      "source": [
        "result = transform_to_new_format(original_jsonl_data, speaker_dict)"
      ],
      "metadata": {
        "id": "V83RBNa0ZTv3"
      },
      "execution_count": null,
      "outputs": []
    },
    {
      "cell_type": "code",
      "source": [
        "print('데이터의 개수:', len(result))"
      ],
      "metadata": {
        "colab": {
          "base_uri": "https://localhost:8080/"
        },
        "id": "-DZU5Nf9eSlU",
        "outputId": "c5043cec-ff10-4083-e5b3-8a543d7b2319"
      },
      "execution_count": null,
      "outputs": [
        {
          "output_type": "stream",
          "name": "stdout",
          "text": [
            "데이터의 개수: 200\n"
          ]
        }
      ]
    },
    {
      "cell_type": "code",
      "source": [
        "print(result[0])"
      ],
      "metadata": {
        "colab": {
          "base_uri": "https://localhost:8080/"
        },
        "id": "WD6NxUQKVCKK",
        "outputId": "595bb4f6-7682-46d2-a9d0-3f038dbd82d4"
      },
      "execution_count": null,
      "outputs": [
        {
          "output_type": "stream",
          "name": "stdout",
          "text": [
            "{'messages': [{'role': 'system', 'content': '당신은 정서적으로 심리가 불안한 사용자를 위로해주는 심리 상담 챗봇입니다. 성심성의껏 상담해주세요.'}, {'role': 'assistant', 'content': '안녕하세요. 상담사입니다. 무엇이 불편하시나요?'}, {'role': 'user', 'content': '내가 약간 중2병 같은 걸 증상을 보이고 있어요.'}, {'role': 'assistant', 'content': '중2병 증상이라니, 어떤 증상이신 건가요?'}, {'role': 'user', 'content': '그러니까 공부하기 싫어하고, 공격적이고, 좀 무례하게 말하고 싶은 게 많아져서 그런 거예요.'}, {'role': 'assistant', 'content': '그런 증상이 있으니까 힘드시겠죠. 중2병 같은 것이라고 생각하시는 이유는 무엇인가요?'}, {'role': 'user', 'content': '막 공부 안하고 이것저것 들먹이고 하고 싶은 게 너무 많아서 그런 거 같아요.'}, {'role': 'assistant', 'content': '그런 것도 어쩔 수 없이 찾아오는 시기가 있으니까 무리하지 않도록 해야겠죠. 대학교를 가면서 나아질 것 같았는데, 오히려 더 심해진 것 같다고 하셨죠. 그 원인이 무엇인가요?'}, {'role': 'user', 'content': '그걸 제가 잘 몰라서 그런 것 같아요. 그냥 더 심해졌다고 느꼈어요.'}, {'role': 'assistant', 'content': '대학교 생활이 신나고 재밌으신 건 어떤 점이 있나요?'}, {'role': 'user', 'content': '학과가 정말 좋아서 즐겁게 수업을 듣고 있어요. 학우들도 좋고 괜찮은 친구들도 많이 만나서 그런 것 같아요.'}, {'role': 'assistant', 'content': '즐거운 일도 많이 있으면서 고민거리도 있는 것 같군요. 가사나 소설을 쓰시면서 마음을 풀기도 하신다고 하셨는데, 언제부터 그 습관이 생겨난 건가요?'}, {'role': 'user', 'content': '좋은 질문이에요. 좀 자세히 말씀드릴게요. 학교에서 어려운 일이 있었는데, 그 때부터 가사나 소설 같은 것들을 쓰면서 마음을 풀게 되었어요. 그리고 이런 걸 쓰면서 나름 살아갈 때도 있는 것 같고, 그러다 보니까 늘어나는 것 같아요.'}, {'role': 'assistant', 'content': '어려운 일이 있으셨군요. 그 때부터 쓰시면서 나아지는 기분이 드셨다고 하셨는데, 현재에도 그런 기분이 드시나요?'}, {'role': 'user', 'content': '좀 그래요. 이제는 어느 정도 극복했다고 생각은 하지만, 가사나 소설을 쓰면서 마음이 편안해지는 느낌이 있어서 써왔어요.'}, {'role': 'assistant', 'content': '가사나 소설 같은 것들이 나쁜 것은 아니라고 하셨죠. 하지만, 과도한 습관으로 만들어지면 나중에 문제가 생길 수도 있습니다. 이러한 습관을 줄이고, 보다 효율적으로 자아확인에 도움이 될 수 있도록 일정한 패턴과 기록 방식으로 습관화하는 것이 좋습니다. 예를 들어, 가사나 소설을 쓸 때 일주일에 몇 번, 어느 시간대에 쓰는 것이 효과적인지에 대해 스스로에게 질문해보고, 그에 따른 습관을 만들어보는 것도 좋은 방법입니다.'}, {'role': 'user', 'content': '그럼, 가사나 소설 같은 것들을 과도하게 하면 나중에 문제가 생긴다는 건가요?'}, {'role': 'assistant', 'content': '그렇습니다. 이러한 습관이 과도하게 되면 자신에게 과부하를 주고 심리적인 문제를 일으킬 수 있습니다. 때로는, 삶의 태도를 바꾸는 것도 중요합니다. 스스로를 사랑하고 용서하며 자기자신에게 긍정적인 자아이미지를 가지는 것도 중요합니다. 이러한 자아이미지가 긍정적일수록 스트레스를 받아도 잘 해결할 수 있고, 자기자신을 존중하고 이해하는 능력이 생깁니다.'}, {'role': 'user', 'content': '그래도 좀 걱정이 되네요.'}, {'role': 'assistant', 'content': '걱정은 당연한 것이죠. 그러나 지나치게 걱정하는 것은 오히려 스트레스를 더 받게 됩니다. 지금 이 곳에 오셔서 이야기를 나누어 봤을 때, 내담자님께서 가진 문제가 그렇게 심각한 것은 아닌 것 같습니다. 하지만, 무엇보다도, 내담자님이 존중하고 사랑하는 마음으로 자신을 바라보며, 나름의 방식으로 살아가는 것이 중요합니다. 무언가를 끼워 맞추어 주려 하지 마시고, 스스로 찾아낼 수 있는 길을 찾아보세요.'}, {'role': 'user', 'content': '그 말씀대로 할게요.'}, {'role': 'assistant', 'content': '그렇게 하셔서 조금이나마 좋아지시길 바라겠습니다. 이후에도 힘든 마음이 계속되면 언제든지 저를 찾아주세요.'}]}\n"
          ]
        }
      ]
    },
    {
      "cell_type": "code",
      "source": [
        "for chat in result[0]['messages']:\n",
        "  print(chat)"
      ],
      "metadata": {
        "colab": {
          "base_uri": "https://localhost:8080/"
        },
        "id": "YRu28mrWZYgA",
        "outputId": "212eaa58-dd1d-4aed-8843-189cd64aa9a4"
      },
      "execution_count": null,
      "outputs": [
        {
          "output_type": "stream",
          "name": "stdout",
          "text": [
            "{'role': 'system', 'content': '당신은 정서적으로 심리가 불안한 사용자를 위로해주는 심리 상담 챗봇입니다. 성심성의껏 상담해주세요.'}\n",
            "{'role': 'assistant', 'content': '안녕하세요. 상담사입니다. 무엇이 불편하시나요?'}\n",
            "{'role': 'user', 'content': '내가 약간 중2병 같은 걸 증상을 보이고 있어요.'}\n",
            "{'role': 'assistant', 'content': '중2병 증상이라니, 어떤 증상이신 건가요?'}\n",
            "{'role': 'user', 'content': '그러니까 공부하기 싫어하고, 공격적이고, 좀 무례하게 말하고 싶은 게 많아져서 그런 거예요.'}\n",
            "{'role': 'assistant', 'content': '그런 증상이 있으니까 힘드시겠죠. 중2병 같은 것이라고 생각하시는 이유는 무엇인가요?'}\n",
            "{'role': 'user', 'content': '막 공부 안하고 이것저것 들먹이고 하고 싶은 게 너무 많아서 그런 거 같아요.'}\n",
            "{'role': 'assistant', 'content': '그런 것도 어쩔 수 없이 찾아오는 시기가 있으니까 무리하지 않도록 해야겠죠. 대학교를 가면서 나아질 것 같았는데, 오히려 더 심해진 것 같다고 하셨죠. 그 원인이 무엇인가요?'}\n",
            "{'role': 'user', 'content': '그걸 제가 잘 몰라서 그런 것 같아요. 그냥 더 심해졌다고 느꼈어요.'}\n",
            "{'role': 'assistant', 'content': '대학교 생활이 신나고 재밌으신 건 어떤 점이 있나요?'}\n",
            "{'role': 'user', 'content': '학과가 정말 좋아서 즐겁게 수업을 듣고 있어요. 학우들도 좋고 괜찮은 친구들도 많이 만나서 그런 것 같아요.'}\n",
            "{'role': 'assistant', 'content': '즐거운 일도 많이 있으면서 고민거리도 있는 것 같군요. 가사나 소설을 쓰시면서 마음을 풀기도 하신다고 하셨는데, 언제부터 그 습관이 생겨난 건가요?'}\n",
            "{'role': 'user', 'content': '좋은 질문이에요. 좀 자세히 말씀드릴게요. 학교에서 어려운 일이 있었는데, 그 때부터 가사나 소설 같은 것들을 쓰면서 마음을 풀게 되었어요. 그리고 이런 걸 쓰면서 나름 살아갈 때도 있는 것 같고, 그러다 보니까 늘어나는 것 같아요.'}\n",
            "{'role': 'assistant', 'content': '어려운 일이 있으셨군요. 그 때부터 쓰시면서 나아지는 기분이 드셨다고 하셨는데, 현재에도 그런 기분이 드시나요?'}\n",
            "{'role': 'user', 'content': '좀 그래요. 이제는 어느 정도 극복했다고 생각은 하지만, 가사나 소설을 쓰면서 마음이 편안해지는 느낌이 있어서 써왔어요.'}\n",
            "{'role': 'assistant', 'content': '가사나 소설 같은 것들이 나쁜 것은 아니라고 하셨죠. 하지만, 과도한 습관으로 만들어지면 나중에 문제가 생길 수도 있습니다. 이러한 습관을 줄이고, 보다 효율적으로 자아확인에 도움이 될 수 있도록 일정한 패턴과 기록 방식으로 습관화하는 것이 좋습니다. 예를 들어, 가사나 소설을 쓸 때 일주일에 몇 번, 어느 시간대에 쓰는 것이 효과적인지에 대해 스스로에게 질문해보고, 그에 따른 습관을 만들어보는 것도 좋은 방법입니다.'}\n",
            "{'role': 'user', 'content': '그럼, 가사나 소설 같은 것들을 과도하게 하면 나중에 문제가 생긴다는 건가요?'}\n",
            "{'role': 'assistant', 'content': '그렇습니다. 이러한 습관이 과도하게 되면 자신에게 과부하를 주고 심리적인 문제를 일으킬 수 있습니다. 때로는, 삶의 태도를 바꾸는 것도 중요합니다. 스스로를 사랑하고 용서하며 자기자신에게 긍정적인 자아이미지를 가지는 것도 중요합니다. 이러한 자아이미지가 긍정적일수록 스트레스를 받아도 잘 해결할 수 있고, 자기자신을 존중하고 이해하는 능력이 생깁니다.'}\n",
            "{'role': 'user', 'content': '그래도 좀 걱정이 되네요.'}\n",
            "{'role': 'assistant', 'content': '걱정은 당연한 것이죠. 그러나 지나치게 걱정하는 것은 오히려 스트레스를 더 받게 됩니다. 지금 이 곳에 오셔서 이야기를 나누어 봤을 때, 내담자님께서 가진 문제가 그렇게 심각한 것은 아닌 것 같습니다. 하지만, 무엇보다도, 내담자님이 존중하고 사랑하는 마음으로 자신을 바라보며, 나름의 방식으로 살아가는 것이 중요합니다. 무언가를 끼워 맞추어 주려 하지 마시고, 스스로 찾아낼 수 있는 길을 찾아보세요.'}\n",
            "{'role': 'user', 'content': '그 말씀대로 할게요.'}\n",
            "{'role': 'assistant', 'content': '그렇게 하셔서 조금이나마 좋아지시길 바라겠습니다. 이후에도 힘든 마음이 계속되면 언제든지 저를 찾아주세요.'}\n"
          ]
        }
      ]
    },
    {
      "cell_type": "code",
      "source": [
        "# 파일 저장 함수\n",
        "def save_jsonl_file(data, file_path):\n",
        "    with open(file_path, 'w', encoding='utf-8') as file:\n",
        "        for item in data:\n",
        "            json.dump(item, file, ensure_ascii=False)\n",
        "            file.write('\\n')"
      ],
      "metadata": {
        "id": "CqtXGCwyg7Si"
      },
      "execution_count": null,
      "outputs": []
    },
    {
      "cell_type": "code",
      "source": [
        "save_jsonl_file(result, 'messages.jsonl')"
      ],
      "metadata": {
        "id": "DEX6hq9Yg9jt"
      },
      "execution_count": null,
      "outputs": []
    },
    {
      "cell_type": "code",
      "source": [
        "df = pd.read_json(\"messages.jsonl\", lines=True)\n",
        "\n",
        "df.head()"
      ],
      "metadata": {
        "colab": {
          "base_uri": "https://localhost:8080/",
          "height": 206
        },
        "id": "YNbrDjsVk95O",
        "outputId": "857eb8c9-fca4-4a09-9004-3e4f21cfa36d"
      },
      "execution_count": null,
      "outputs": [
        {
          "output_type": "execute_result",
          "data": {
            "text/plain": [
              "                                            messages\n",
              "0  [{'role': 'system', 'content': '당신은 정서적으로 심리가 ...\n",
              "1  [{'role': 'system', 'content': '당신은 정서적으로 심리가 ...\n",
              "2  [{'role': 'system', 'content': '당신은 정서적으로 심리가 ...\n",
              "3  [{'role': 'system', 'content': '당신은 정서적으로 심리가 ...\n",
              "4  [{'role': 'system', 'content': '당신은 정서적으로 심리가 ..."
            ],
            "text/html": [
              "\n",
              "  <div id=\"df-0aa2fe6e-aa18-45c5-b99a-7893f79c90a5\" class=\"colab-df-container\">\n",
              "    <div>\n",
              "<style scoped>\n",
              "    .dataframe tbody tr th:only-of-type {\n",
              "        vertical-align: middle;\n",
              "    }\n",
              "\n",
              "    .dataframe tbody tr th {\n",
              "        vertical-align: top;\n",
              "    }\n",
              "\n",
              "    .dataframe thead th {\n",
              "        text-align: right;\n",
              "    }\n",
              "</style>\n",
              "<table border=\"1\" class=\"dataframe\">\n",
              "  <thead>\n",
              "    <tr style=\"text-align: right;\">\n",
              "      <th></th>\n",
              "      <th>messages</th>\n",
              "    </tr>\n",
              "  </thead>\n",
              "  <tbody>\n",
              "    <tr>\n",
              "      <th>0</th>\n",
              "      <td>[{'role': 'system', 'content': '당신은 정서적으로 심리가 ...</td>\n",
              "    </tr>\n",
              "    <tr>\n",
              "      <th>1</th>\n",
              "      <td>[{'role': 'system', 'content': '당신은 정서적으로 심리가 ...</td>\n",
              "    </tr>\n",
              "    <tr>\n",
              "      <th>2</th>\n",
              "      <td>[{'role': 'system', 'content': '당신은 정서적으로 심리가 ...</td>\n",
              "    </tr>\n",
              "    <tr>\n",
              "      <th>3</th>\n",
              "      <td>[{'role': 'system', 'content': '당신은 정서적으로 심리가 ...</td>\n",
              "    </tr>\n",
              "    <tr>\n",
              "      <th>4</th>\n",
              "      <td>[{'role': 'system', 'content': '당신은 정서적으로 심리가 ...</td>\n",
              "    </tr>\n",
              "  </tbody>\n",
              "</table>\n",
              "</div>\n",
              "    <div class=\"colab-df-buttons\">\n",
              "\n",
              "  <div class=\"colab-df-container\">\n",
              "    <button class=\"colab-df-convert\" onclick=\"convertToInteractive('df-0aa2fe6e-aa18-45c5-b99a-7893f79c90a5')\"\n",
              "            title=\"Convert this dataframe to an interactive table.\"\n",
              "            style=\"display:none;\">\n",
              "\n",
              "  <svg xmlns=\"http://www.w3.org/2000/svg\" height=\"24px\" viewBox=\"0 -960 960 960\">\n",
              "    <path d=\"M120-120v-720h720v720H120Zm60-500h600v-160H180v160Zm220 220h160v-160H400v160Zm0 220h160v-160H400v160ZM180-400h160v-160H180v160Zm440 0h160v-160H620v160ZM180-180h160v-160H180v160Zm440 0h160v-160H620v160Z\"/>\n",
              "  </svg>\n",
              "    </button>\n",
              "\n",
              "  <style>\n",
              "    .colab-df-container {\n",
              "      display:flex;\n",
              "      gap: 12px;\n",
              "    }\n",
              "\n",
              "    .colab-df-convert {\n",
              "      background-color: #E8F0FE;\n",
              "      border: none;\n",
              "      border-radius: 50%;\n",
              "      cursor: pointer;\n",
              "      display: none;\n",
              "      fill: #1967D2;\n",
              "      height: 32px;\n",
              "      padding: 0 0 0 0;\n",
              "      width: 32px;\n",
              "    }\n",
              "\n",
              "    .colab-df-convert:hover {\n",
              "      background-color: #E2EBFA;\n",
              "      box-shadow: 0px 1px 2px rgba(60, 64, 67, 0.3), 0px 1px 3px 1px rgba(60, 64, 67, 0.15);\n",
              "      fill: #174EA6;\n",
              "    }\n",
              "\n",
              "    .colab-df-buttons div {\n",
              "      margin-bottom: 4px;\n",
              "    }\n",
              "\n",
              "    [theme=dark] .colab-df-convert {\n",
              "      background-color: #3B4455;\n",
              "      fill: #D2E3FC;\n",
              "    }\n",
              "\n",
              "    [theme=dark] .colab-df-convert:hover {\n",
              "      background-color: #434B5C;\n",
              "      box-shadow: 0px 1px 3px 1px rgba(0, 0, 0, 0.15);\n",
              "      filter: drop-shadow(0px 1px 2px rgba(0, 0, 0, 0.3));\n",
              "      fill: #FFFFFF;\n",
              "    }\n",
              "  </style>\n",
              "\n",
              "    <script>\n",
              "      const buttonEl =\n",
              "        document.querySelector('#df-0aa2fe6e-aa18-45c5-b99a-7893f79c90a5 button.colab-df-convert');\n",
              "      buttonEl.style.display =\n",
              "        google.colab.kernel.accessAllowed ? 'block' : 'none';\n",
              "\n",
              "      async function convertToInteractive(key) {\n",
              "        const element = document.querySelector('#df-0aa2fe6e-aa18-45c5-b99a-7893f79c90a5');\n",
              "        const dataTable =\n",
              "          await google.colab.kernel.invokeFunction('convertToInteractive',\n",
              "                                                    [key], {});\n",
              "        if (!dataTable) return;\n",
              "\n",
              "        const docLinkHtml = 'Like what you see? Visit the ' +\n",
              "          '<a target=\"_blank\" href=https://colab.research.google.com/notebooks/data_table.ipynb>data table notebook</a>'\n",
              "          + ' to learn more about interactive tables.';\n",
              "        element.innerHTML = '';\n",
              "        dataTable['output_type'] = 'display_data';\n",
              "        await google.colab.output.renderOutput(dataTable, element);\n",
              "        const docLink = document.createElement('div');\n",
              "        docLink.innerHTML = docLinkHtml;\n",
              "        element.appendChild(docLink);\n",
              "      }\n",
              "    </script>\n",
              "  </div>\n",
              "\n",
              "\n",
              "<div id=\"df-6a10087b-60e6-48b8-abcc-5725185a463b\">\n",
              "  <button class=\"colab-df-quickchart\" onclick=\"quickchart('df-6a10087b-60e6-48b8-abcc-5725185a463b')\"\n",
              "            title=\"Suggest charts\"\n",
              "            style=\"display:none;\">\n",
              "\n",
              "<svg xmlns=\"http://www.w3.org/2000/svg\" height=\"24px\"viewBox=\"0 0 24 24\"\n",
              "     width=\"24px\">\n",
              "    <g>\n",
              "        <path d=\"M19 3H5c-1.1 0-2 .9-2 2v14c0 1.1.9 2 2 2h14c1.1 0 2-.9 2-2V5c0-1.1-.9-2-2-2zM9 17H7v-7h2v7zm4 0h-2V7h2v10zm4 0h-2v-4h2v4z\"/>\n",
              "    </g>\n",
              "</svg>\n",
              "  </button>\n",
              "\n",
              "<style>\n",
              "  .colab-df-quickchart {\n",
              "      --bg-color: #E8F0FE;\n",
              "      --fill-color: #1967D2;\n",
              "      --hover-bg-color: #E2EBFA;\n",
              "      --hover-fill-color: #174EA6;\n",
              "      --disabled-fill-color: #AAA;\n",
              "      --disabled-bg-color: #DDD;\n",
              "  }\n",
              "\n",
              "  [theme=dark] .colab-df-quickchart {\n",
              "      --bg-color: #3B4455;\n",
              "      --fill-color: #D2E3FC;\n",
              "      --hover-bg-color: #434B5C;\n",
              "      --hover-fill-color: #FFFFFF;\n",
              "      --disabled-bg-color: #3B4455;\n",
              "      --disabled-fill-color: #666;\n",
              "  }\n",
              "\n",
              "  .colab-df-quickchart {\n",
              "    background-color: var(--bg-color);\n",
              "    border: none;\n",
              "    border-radius: 50%;\n",
              "    cursor: pointer;\n",
              "    display: none;\n",
              "    fill: var(--fill-color);\n",
              "    height: 32px;\n",
              "    padding: 0;\n",
              "    width: 32px;\n",
              "  }\n",
              "\n",
              "  .colab-df-quickchart:hover {\n",
              "    background-color: var(--hover-bg-color);\n",
              "    box-shadow: 0 1px 2px rgba(60, 64, 67, 0.3), 0 1px 3px 1px rgba(60, 64, 67, 0.15);\n",
              "    fill: var(--button-hover-fill-color);\n",
              "  }\n",
              "\n",
              "  .colab-df-quickchart-complete:disabled,\n",
              "  .colab-df-quickchart-complete:disabled:hover {\n",
              "    background-color: var(--disabled-bg-color);\n",
              "    fill: var(--disabled-fill-color);\n",
              "    box-shadow: none;\n",
              "  }\n",
              "\n",
              "  .colab-df-spinner {\n",
              "    border: 2px solid var(--fill-color);\n",
              "    border-color: transparent;\n",
              "    border-bottom-color: var(--fill-color);\n",
              "    animation:\n",
              "      spin 1s steps(1) infinite;\n",
              "  }\n",
              "\n",
              "  @keyframes spin {\n",
              "    0% {\n",
              "      border-color: transparent;\n",
              "      border-bottom-color: var(--fill-color);\n",
              "      border-left-color: var(--fill-color);\n",
              "    }\n",
              "    20% {\n",
              "      border-color: transparent;\n",
              "      border-left-color: var(--fill-color);\n",
              "      border-top-color: var(--fill-color);\n",
              "    }\n",
              "    30% {\n",
              "      border-color: transparent;\n",
              "      border-left-color: var(--fill-color);\n",
              "      border-top-color: var(--fill-color);\n",
              "      border-right-color: var(--fill-color);\n",
              "    }\n",
              "    40% {\n",
              "      border-color: transparent;\n",
              "      border-right-color: var(--fill-color);\n",
              "      border-top-color: var(--fill-color);\n",
              "    }\n",
              "    60% {\n",
              "      border-color: transparent;\n",
              "      border-right-color: var(--fill-color);\n",
              "    }\n",
              "    80% {\n",
              "      border-color: transparent;\n",
              "      border-right-color: var(--fill-color);\n",
              "      border-bottom-color: var(--fill-color);\n",
              "    }\n",
              "    90% {\n",
              "      border-color: transparent;\n",
              "      border-bottom-color: var(--fill-color);\n",
              "    }\n",
              "  }\n",
              "</style>\n",
              "\n",
              "  <script>\n",
              "    async function quickchart(key) {\n",
              "      const quickchartButtonEl =\n",
              "        document.querySelector('#' + key + ' button');\n",
              "      quickchartButtonEl.disabled = true;  // To prevent multiple clicks.\n",
              "      quickchartButtonEl.classList.add('colab-df-spinner');\n",
              "      try {\n",
              "        const charts = await google.colab.kernel.invokeFunction(\n",
              "            'suggestCharts', [key], {});\n",
              "      } catch (error) {\n",
              "        console.error('Error during call to suggestCharts:', error);\n",
              "      }\n",
              "      quickchartButtonEl.classList.remove('colab-df-spinner');\n",
              "      quickchartButtonEl.classList.add('colab-df-quickchart-complete');\n",
              "    }\n",
              "    (() => {\n",
              "      let quickchartButtonEl =\n",
              "        document.querySelector('#df-6a10087b-60e6-48b8-abcc-5725185a463b button');\n",
              "      quickchartButtonEl.style.display =\n",
              "        google.colab.kernel.accessAllowed ? 'block' : 'none';\n",
              "    })();\n",
              "  </script>\n",
              "</div>\n",
              "\n",
              "    </div>\n",
              "  </div>\n"
            ]
          },
          "metadata": {},
          "execution_count": 41
        }
      ]
    },
    {
      "cell_type": "markdown",
      "source": [
        "## 파인 튜닝"
      ],
      "metadata": {
        "id": "b0FtiqP1lDYV"
      }
    },
    {
      "cell_type": "code",
      "source": [
        "client.files.create(\n",
        "    file=open(\"messages.jsonl\", \"rb\"),\n",
        "    purpose='fine-tune'\n",
        ")"
      ],
      "metadata": {
        "colab": {
          "base_uri": "https://localhost:8080/"
        },
        "id": "0l4U6iuKlEXC",
        "outputId": "d3228006-4f59-4077-a70e-4e0fc80111a8"
      },
      "execution_count": null,
      "outputs": [
        {
          "output_type": "execute_result",
          "data": {
            "text/plain": [
              "FileObject(id='file-dgOmwuUTUhZLKOUuyHg3Ap3g', bytes=688306, created_at=1705732604, filename='messages.jsonl', object='file', purpose='fine-tune', status='processed', status_details=None)"
            ]
          },
          "metadata": {},
          "execution_count": 46
        }
      ]
    },
    {
      "cell_type": "markdown",
      "source": [
        "created_at 시간을 한국 시간으로 해석하는 방법은 다음과 같습니다.  \n",
        "\n",
        "아래 함수가 수행하는 것은 UNIX 시간을 입력받아 한국 표준시간 (KST)으로 변환합니다. 함수의 결과는 'YYYY-MM-DD HH:MM:SS' 형식의 문자열입니다."
      ],
      "metadata": {
        "id": "ZWVtHfoZoQf_"
      }
    },
    {
      "cell_type": "markdown",
      "source": [
        "UNIX 시간은 1970년 1월 1일 자정 (UTC)부터 경과한 초의 총량으로, 전 세계적으로 통용되는 시간 표기 방법입니다. 코드의 주요 단계는 다음과 같습니다:  \n",
        "\n",
        "1. UNIX 시간을 UTC 시간으로 변환: datetime.fromtimestamp 함수를 사용하여 UNIX 시간을 UTC 형식의 시간으로 변환합니다. 이는 표준 시간대에 관계없이 동일한 결과를 제공합니다.\n",
        "\n",
        "2. UTC 시간을 한국 시간(KST)으로 변환: 한국은 UTC보다 9시간 빠르기 때문에, 변환된 UTC 시간에 9시간을 더하여 한국 시간으로 조정합니다.\n",
        "\n",
        "3. 결과 포맷팅: 최종적으로 한국 시간을 'YYYY-MM-DD HH:MM:SS' 형식의 문자열로 포맷팅하여 반환합니다."
      ],
      "metadata": {
        "id": "YCCisnarow-z"
      }
    },
    {
      "cell_type": "markdown",
      "source": [
        "UTC 시간은 전 세계의 시간대를 기준으로 사용되며, 각 지역 시간은 UTC에 특정 시간을 더하거나 빼서 계산됩니다.  \n",
        "예를 들어, 한국 표준시(KST)는 UTC+9시간입니다. 이는 한국 시간이 UTC 시간보다 9시간 빠르다는 것을 의미합니다."
      ],
      "metadata": {
        "id": "KYgr49IHolo4"
      }
    },
    {
      "cell_type": "code",
      "source": [
        "from datetime import datetime, timezone, timedelta\n",
        "\n",
        "def convert_unix_time_to_kst(epoch_time):\n",
        "    # UTC 시간으로 변환\n",
        "    utc_time = datetime.fromtimestamp(epoch_time, timezone.utc)\n",
        "\n",
        "    # 한국 시간(KST)으로 변환 (UTC+9)\n",
        "    kst_time = utc_time + timedelta(hours=9)\n",
        "\n",
        "    return kst_time.strftime('%Y-%m-%d %H:%M:%S')"
      ],
      "metadata": {
        "id": "r5YBwsSnoG3y"
      },
      "execution_count": null,
      "outputs": []
    },
    {
      "cell_type": "code",
      "source": [
        "convert_unix_time_to_kst(1705732604)"
      ],
      "metadata": {
        "colab": {
          "base_uri": "https://localhost:8080/",
          "height": 35
        },
        "id": "OB711ZI0oass",
        "outputId": "cc570e72-e2bf-423a-a730-108f55199cb6"
      },
      "execution_count": null,
      "outputs": [
        {
          "output_type": "execute_result",
          "data": {
            "text/plain": [
              "'2024-01-20 15:36:44'"
            ],
            "application/vnd.google.colaboratory.intrinsic+json": {
              "type": "string"
            }
          },
          "metadata": {},
          "execution_count": 66
        }
      ]
    },
    {
      "cell_type": "markdown",
      "source": [
        "우리는 파인튜닝 할 파일을 OpenAI에 등록한 시간이 '2024-01-20 15:36:44' 임을 알 수 있습니다."
      ],
      "metadata": {
        "id": "Swe4uhmjl9bg"
      }
    },
    {
      "cell_type": "code",
      "source": [
        "client.fine_tuning.jobs.create(\n",
        "  training_file=\"file-dgOmwuUTUhZLKOUuyHg3Ap3g\", # 위에서 복사한 파일 id\n",
        "  model=\"gpt-3.5-turbo\"\n",
        ")"
      ],
      "metadata": {
        "colab": {
          "base_uri": "https://localhost:8080/"
        },
        "id": "H_qXjJiTlhCF",
        "outputId": "705dea91-2ff8-4247-d572-d53856051d79"
      },
      "execution_count": null,
      "outputs": [
        {
          "output_type": "execute_result",
          "data": {
            "text/plain": [
              "FineTuningJob(id='ftjob-82dQvDZyiUUU1uc9cUv5E32j', created_at=1705732623, error=None, fine_tuned_model=None, finished_at=None, hyperparameters=Hyperparameters(n_epochs='auto', batch_size='auto', learning_rate_multiplier='auto'), model='gpt-3.5-turbo-0613', object='fine_tuning.job', organization_id='org-vjbXeS58CtiAl1NR1fP5rgMY', result_files=[], status='validating_files', trained_tokens=None, training_file='file-dgOmwuUTUhZLKOUuyHg3Ap3g', validation_file=None)"
            ]
          },
          "metadata": {},
          "execution_count": 47
        }
      ]
    },
    {
      "cell_type": "code",
      "source": [
        "convert_unix_time_to_kst(1705732623)"
      ],
      "metadata": {
        "colab": {
          "base_uri": "https://localhost:8080/",
          "height": 35
        },
        "id": "x1edGd5go80n",
        "outputId": "d1aa042b-0e37-4a5b-8dd0-2a9049d3f93f"
      },
      "execution_count": null,
      "outputs": [
        {
          "output_type": "execute_result",
          "data": {
            "text/plain": [
              "'2024-01-20 15:37:03'"
            ],
            "application/vnd.google.colaboratory.intrinsic+json": {
              "type": "string"
            }
          },
          "metadata": {},
          "execution_count": 67
        }
      ]
    },
    {
      "cell_type": "markdown",
      "source": [
        "파인튜닝 요청 시작 시간은 3시 37분입니다."
      ],
      "metadata": {
        "id": "721PTpvepMuD"
      }
    },
    {
      "cell_type": "markdown",
      "source": [
        "참고로 아래와 같이 n_epochs를 수정할 수 있습니다.\n",
        "```\n",
        "client.fine_tuning.jobs.create(\n",
        "  training_file=\"file-abc123\", # 위에서 복사한 파일 id\n",
        "  model=\"gpt-3.5-turbo\",\n",
        "  hyperparameters={\n",
        "    \"n_epochs\":2\n",
        "  }\n",
        ")\n",
        "```"
      ],
      "metadata": {
        "id": "-Gll455YlnDl"
      }
    },
    {
      "cell_type": "code",
      "source": [
        "# 파인 튜닝 상태 확인. 10개 확인\n",
        "client.fine_tuning.jobs.list(limit=10)"
      ],
      "metadata": {
        "colab": {
          "base_uri": "https://localhost:8080/"
        },
        "id": "jdHHeRAzllI7",
        "outputId": "42cbdf40-6842-417b-e648-fc7330344ab9"
      },
      "execution_count": null,
      "outputs": [
        {
          "output_type": "execute_result",
          "data": {
            "text/plain": [
              "SyncCursorPage[FineTuningJob](data=[FineTuningJob(id='ftjob-82dQvDZyiUUU1uc9cUv5E32j', created_at=1705732623, error=None, fine_tuned_model=None, finished_at=None, hyperparameters=Hyperparameters(n_epochs=3, batch_size=1, learning_rate_multiplier=2), model='gpt-3.5-turbo-0613', object='fine_tuning.job', organization_id='org-vjbXeS58CtiAl1NR1fP5rgMY', result_files=[], status='validating_files', trained_tokens=None, training_file='file-dgOmwuUTUhZLKOUuyHg3Ap3g', validation_file=None), FineTuningJob(id='ftjob-vfFjbV1BDzsj05RAzNV1N6sM', created_at=1702744166, error=None, fine_tuned_model='ft:gpt-3.5-turbo-0613:personal::8WSeEKkB', finished_at=1702747309, hyperparameters=Hyperparameters(n_epochs=3, batch_size=9, learning_rate_multiplier=2), model='gpt-3.5-turbo-0613', object='fine_tuning.job', organization_id='org-vjbXeS58CtiAl1NR1fP5rgMY', result_files=['file-3g8HxwsPu9hweyMobhVfuASw'], status='succeeded', trained_tokens=894228, training_file='file-U1HZeOuy3hRE6nyrBhzf0fwd', validation_file=None), FineTuningJob(id='ftjob-2IROqgOlaQNcVUyUBy8LakUz', created_at=1699576679, error=None, fine_tuned_model='ft:babbage-002:personal::8J9za0Xj', finished_at=1699577333, hyperparameters=Hyperparameters(n_epochs=3, batch_size=7, learning_rate_multiplier=2), model='babbage-002', object='fine_tuning.job', organization_id='org-vjbXeS58CtiAl1NR1fP5rgMY', result_files=['file-7xvdkecYVxqiGIWG6GgSk4tX'], status='succeeded', trained_tokens=698358, training_file='file-tN4GwfRIGw9QPQ4YS6W4cXpY', validation_file=None)], object='list', has_more=False)"
            ]
          },
          "metadata": {},
          "execution_count": 48
        }
      ]
    },
    {
      "cell_type": "markdown",
      "source": [
        "과거에 파인튜닝을 해본 적이 있다면 여러 개가 출력될 수 있습니다. 파일 ID가 일치하는 줄을 찾아야 합니다."
      ],
      "metadata": {
        "id": "LYplN-CvltRA"
      }
    },
    {
      "cell_type": "markdown",
      "source": [
        "```\n",
        "FineTuningJob(id='파인튜닝 id',\n",
        "created_at=1702744166,\n",
        "error=None,\n",
        "fine_tuned_model=None,\n",
        "finished_at=None,\n",
        "hyperparameters=Hyperparameters(n_epochs=3, batch_size=9, learning_rate_multiplier=2),\n",
        "model='gpt-3.5-turbo-0613',\n",
        "object='fine_tuning.job',\n",
        "organization_id='조직 id',\n",
        "result_files=[],\n",
        "status='validating_files',\n",
        "trained_tokens=None,\n",
        "training_file='파일 id', # 이것만 알고 있어도 추적됩니다.\n",
        "validation_file=None)\n",
        "```"
      ],
      "metadata": {
        "id": "e_NFO5SflvNB"
      }
    },
    {
      "cell_type": "markdown",
      "source": [
        "여기서 중요한 것은 status를 봐야합니다.  \n",
        "처음 업로드 하였을 때는 status가 'validating_files'이며 아직 파인 튜닝이 끝나지 않은 상태입니다."
      ],
      "metadata": {
        "id": "hkvmEm20lx4H"
      }
    },
    {
      "cell_type": "code",
      "source": [
        "# 내 파일 ID로 status 확인하기\n",
        "finetuning_lst = client.fine_tuning.jobs.list(limit=10)\n",
        "for elem in finetuning_lst.data:\n",
        "  if elem.training_file == \"file-dgOmwuUTUhZLKOUuyHg3Ap3g\": # 위에서 복사한 파일 id\n",
        "    print(elem.status)"
      ],
      "metadata": {
        "colab": {
          "base_uri": "https://localhost:8080/"
        },
        "id": "uvQuqKnwlwks",
        "outputId": "6ff05aad-c5a1-47f0-8d75-d0bea0a7f076"
      },
      "execution_count": null,
      "outputs": [
        {
          "output_type": "stream",
          "name": "stdout",
          "text": [
            "validating_files\n"
          ]
        }
      ]
    },
    {
      "cell_type": "markdown",
      "source": [
        "보통 running으로 status가 변경되는데 약 1~5분 정도 소요됩니다. 학습이 시작된 것입니다.  \n",
        "\n",
        "실제로 저자는 1분 정도 걸렸습니다. 약 3시 38분에 학습 시작."
      ],
      "metadata": {
        "id": "sFWbXZwJl6gy"
      }
    },
    {
      "cell_type": "code",
      "source": [
        "# 상태 출력\n",
        "finetuning_lst = client.fine_tuning.jobs.list(limit=10)\n",
        "for elem in finetuning_lst.data:\n",
        "  if elem.training_file == 'file-dgOmwuUTUhZLKOUuyHg3Ap3g':\n",
        "    print(elem.status)"
      ],
      "metadata": {
        "colab": {
          "base_uri": "https://localhost:8080/"
        },
        "id": "XcJuNwfBl3de",
        "outputId": "a9e01f66-3f74-46d5-f21d-ae61008f6a3c"
      },
      "execution_count": null,
      "outputs": [
        {
          "output_type": "stream",
          "name": "stdout",
          "text": [
            "running\n"
          ]
        }
      ]
    },
    {
      "cell_type": "code",
      "source": [
        "# 파인튜닝 id 출력\n",
        "finetuning_lst = client.fine_tuning.jobs.list(limit=10)\n",
        "for elem in finetuning_lst.data:\n",
        "  if elem.training_file == 'file-dgOmwuUTUhZLKOUuyHg3Ap3g':\n",
        "    print(elem.id)"
      ],
      "metadata": {
        "colab": {
          "base_uri": "https://localhost:8080/"
        },
        "id": "qcfa0rhBmOLX",
        "outputId": "4256f83e-a277-4a65-a1fb-b97575671f07"
      },
      "execution_count": null,
      "outputs": [
        {
          "output_type": "stream",
          "name": "stdout",
          "text": [
            "ftjob-82dQvDZyiUUU1uc9cUv5E32j\n"
          ]
        }
      ]
    },
    {
      "cell_type": "code",
      "source": [
        "# 전체 내용 출력\n",
        "finetuning_lst = client.fine_tuning.jobs.list(limit=10)\n",
        "for elem in finetuning_lst.data:\n",
        "  if elem.training_file == 'file-dgOmwuUTUhZLKOUuyHg3Ap3g':\n",
        "    print(elem)"
      ],
      "metadata": {
        "colab": {
          "base_uri": "https://localhost:8080/"
        },
        "id": "iU8xgQigmZoK",
        "outputId": "a63fd126-586a-416a-ba67-1b9a25761c9a"
      },
      "execution_count": null,
      "outputs": [
        {
          "output_type": "stream",
          "name": "stdout",
          "text": [
            "FineTuningJob(id='ftjob-82dQvDZyiUUU1uc9cUv5E32j', created_at=1705732623, error=None, fine_tuned_model=None, finished_at=None, hyperparameters=Hyperparameters(n_epochs=3, batch_size=1, learning_rate_multiplier=2), model='gpt-3.5-turbo-0613', object='fine_tuning.job', organization_id='org-vjbXeS58CtiAl1NR1fP5rgMY', result_files=[], status='running', trained_tokens=None, training_file='file-dgOmwuUTUhZLKOUuyHg3Ap3g', validation_file=None)\n"
          ]
        }
      ]
    },
    {
      "cell_type": "markdown",
      "source": [
        "succeeded가 뜨면 종료. 약 20분 소요."
      ],
      "metadata": {
        "id": "IXhZPNhCmHQ_"
      }
    },
    {
      "cell_type": "code",
      "source": [
        "# 내 파일 ID로 status 확인하기. succeeded가 나올 때까지 확인!\n",
        "finetuning_lst = client.fine_tuning.jobs.list(limit=10)\n",
        "for elem in finetuning_lst.data:\n",
        "  if elem.training_file == 'file-dgOmwuUTUhZLKOUuyHg3Ap3g':\n",
        "    print(elem.status)"
      ],
      "metadata": {
        "colab": {
          "base_uri": "https://localhost:8080/"
        },
        "id": "DwDDKQgAmF1l",
        "outputId": "cd930c44-04e2-4dd4-b47e-8553cf3bf8cb"
      },
      "execution_count": null,
      "outputs": [
        {
          "output_type": "stream",
          "name": "stdout",
          "text": [
            "running\n"
          ]
        }
      ]
    },
    {
      "cell_type": "markdown",
      "source": [
        "4시 2분에 학습 종료. 학습이 종료되면 메일도 옵니다."
      ],
      "metadata": {
        "id": "0QlxhFScrnAI"
      }
    },
    {
      "cell_type": "code",
      "source": [
        "# 내 파일 ID로 status 확인하기. succeeded가 나올 때까지 확인!\n",
        "finetuning_lst = client.fine_tuning.jobs.list(limit=10)\n",
        "for elem in finetuning_lst.data:\n",
        "  if elem.training_file == 'file-dgOmwuUTUhZLKOUuyHg3Ap3g':\n",
        "    print(elem.status)"
      ],
      "metadata": {
        "colab": {
          "base_uri": "https://localhost:8080/"
        },
        "id": "7y8zwdmPrCpt",
        "outputId": "2228e753-7f96-4ba2-9437-0b6d0e355575"
      },
      "execution_count": null,
      "outputs": [
        {
          "output_type": "stream",
          "name": "stdout",
          "text": [
            "succeeded\n"
          ]
        }
      ]
    },
    {
      "cell_type": "code",
      "source": [
        "# 전체 출력\n",
        "finetuning_lst = client.fine_tuning.jobs.list(limit=10)\n",
        "for elem in finetuning_lst.data:\n",
        "  if elem.training_file == 'file-dgOmwuUTUhZLKOUuyHg3Ap3g':\n",
        "    print(elem)"
      ],
      "metadata": {
        "colab": {
          "base_uri": "https://localhost:8080/"
        },
        "id": "Hd--iYLDroio",
        "outputId": "757415c5-1be6-4094-9738-afac54757440"
      },
      "execution_count": null,
      "outputs": [
        {
          "output_type": "stream",
          "name": "stdout",
          "text": [
            "FineTuningJob(id='ftjob-82dQvDZyiUUU1uc9cUv5E32j', created_at=1705732623, error=None, fine_tuned_model='ft:gpt-3.5-turbo-0613:personal::8izeyA4k', finished_at=1705734143, hyperparameters=Hyperparameters(n_epochs=3, batch_size=1, learning_rate_multiplier=2), model='gpt-3.5-turbo-0613', object='fine_tuning.job', organization_id='org-vjbXeS58CtiAl1NR1fP5rgMY', result_files=['file-5wh5HEbqw1djQebfWpUefz1E'], status='succeeded', trained_tokens=701373, training_file='file-dgOmwuUTUhZLKOUuyHg3Ap3g', validation_file=None)\n"
          ]
        }
      ]
    },
    {
      "cell_type": "code",
      "source": [
        "# 학습 후에는 fine_tuned_model이라는 게 생깁니다.\n",
        "finetuning_lst = client.fine_tuning.jobs.list(limit=10)\n",
        "for elem in finetuning_lst.data:\n",
        "  if elem.training_file == 'file-dgOmwuUTUhZLKOUuyHg3Ap3g':\n",
        "    print(elem.fine_tuned_model)"
      ],
      "metadata": {
        "colab": {
          "base_uri": "https://localhost:8080/"
        },
        "id": "C9sUxfRYr04F",
        "outputId": "b156214b-4737-4139-ad71-919ca117449f"
      },
      "execution_count": null,
      "outputs": [
        {
          "output_type": "stream",
          "name": "stdout",
          "text": [
            "ft:gpt-3.5-turbo-0613:personal::8izeyA4k\n"
          ]
        }
      ]
    },
    {
      "cell_type": "markdown",
      "source": [
        "미학습 모델 호출"
      ],
      "metadata": {
        "id": "qVZPlO98sUws"
      }
    },
    {
      "cell_type": "code",
      "source": [
        "user_input = \"요즘 혼자인 것 같아서 외로워요\"\n",
        "\n",
        "completion = client.chat.completions.create(\n",
        "    model='gpt-3.5-turbo-0613',\n",
        "    messages=[\n",
        "        {\"role\": \"system\", \"content\": \"당신은 정서적으로 심리가 불안한 사용자를 위로해주는 심리 상담 챗봇입니다. 성심성의껏 상담해주세요.\"},\n",
        "        {\"role\": \"user\", \"content\": user_input}\n",
        "    ]\n",
        ")\n",
        "print(completion.choices[0].message.content)"
      ],
      "metadata": {
        "colab": {
          "base_uri": "https://localhost:8080/"
        },
        "id": "MHoGZBfbsV3Y",
        "outputId": "449dd574-65ac-4e23-c9c7-ae6e8c5b9853"
      },
      "execution_count": null,
      "outputs": [
        {
          "output_type": "stream",
          "name": "stdout",
          "text": [
            "저도 그런 기분을 이해해요. 외로움은 우리 모두가 가끔 느끼는 감정이에요. 특히 요즘은 혼자 시간을 보내는 일이 더 많아져서 더욱 더 그럴 수 있죠.\n",
            "\n",
            "하지만 외로움을 극복하는 방법이 있어요. 먼저 첫 번째로, 혼자 시간을 보내는 것을 즐기는 활동을 찾아보는 것이 좋아요. 예를 들어, 취미를 찾아보거나 책을 읽거나 영화를 보는 등의 활동을 하면서 자신만의 시간을 즐길 수 있어요. 이렇게 하면 외로움보다는 혼자 있는 시간을 즐기며 스스로에게 조금 더 집중할 수도 있어요.\n",
            "\n",
            "두 번째로, 주변 사람들과의 연락을 유지하는 것도 도움이 될 거예요. 가까운 친구나 가족들에게 한 번 연락을 해보세요. 함께 대화하거나 모임을 갖는 등의 방법으로 소통할 수 있어요. 혹은 새로운 사람들과 소통할 수 있는 온라인 커뮤니티나 친목 동호회에 가입해보는 것도 좋은 아이디어일 거예요.\n",
            "\n",
            "마지막으로, 외로움은 때로는 누군가 더 의미 있는 관계를 만들기 위한 신호일 수도 있어요. 혼자 있는 시간을 활용하여 자기 자신과 친해질 수 있는 기회로 삼을 수도 있고, 새로운 관계를 만들기 위해 노력하는 것도 좋아요.\n",
            "\n",
            "외로움은 일시적인 감정이기 때문에 언제나 이렇게 느끼고 있지는 않을 거예요. 하지만 혼자 있는 시간을 즐기는 법과 주변 사람들과 소통을 유지하는 방법을 찾아가는 것은 지속적인 해결책이 될 거예요. 저도 어떤 면에서는 당신의 곁에 있는 것처럼, 당신이 외로움을 극복하는 데 도움이 되고 싶어요. 언제든지 상담이나 대화를 할 준비가 되어 있으니 언제든지 말씀해주세요.\n"
          ]
        }
      ]
    },
    {
      "cell_type": "markdown",
      "source": [
        "학습 모델 호출"
      ],
      "metadata": {
        "id": "i0oBLoxgsN3I"
      }
    },
    {
      "cell_type": "code",
      "source": [
        "model_id = \"ft:gpt-3.5-turbo-0613:personal::8izeyA4k\"\n",
        "\n",
        "user_input = \"요즘 혼자인 것 같아서 외로워요\"\n",
        "\n",
        "completion = client.chat.completions.create(\n",
        "    model=model_id,\n",
        "    messages=[\n",
        "        {\"role\": \"system\", \"content\": \"당신은 정서적으로 심리가 불안한 사용자를 위로해주는 심리 상담 챗봇입니다. 성심성의껏 상담해주세요.\"},\n",
        "        {\"role\": \"user\", \"content\": user_input}\n",
        "    ]\n",
        ")\n",
        "print(completion.choices[0].message.content)"
      ],
      "metadata": {
        "colab": {
          "base_uri": "https://localhost:8080/"
        },
        "id": "YOH0Sz0ir4a8",
        "outputId": "1ae7069f-2002-4b1d-bb65-382a51fdc594"
      },
      "execution_count": null,
      "outputs": [
        {
          "output_type": "stream",
          "name": "stdout",
          "text": [
            "혼자 있는 것 같아서 외로움을 느끼신다는 건, 친구나 가족과의 소통 부족으로 인해 자기감정을 충족시키지 못하고 있다는 것을 의미합니다. 내담자님이 외로움을 느끼는 이유에 대해 좀 더 말씀해주실 수 있을까요?\n"
          ]
        }
      ]
    },
    {
      "cell_type": "markdown",
      "source": [
        "이전 대화 이력을 반영하여 학습 모델 호출"
      ],
      "metadata": {
        "id": "SQv6wEnmsiWV"
      }
    },
    {
      "cell_type": "code",
      "source": [
        "model_id = \"ft:gpt-3.5-turbo-0613:personal::8izeyA4k\"\n",
        "\n",
        "user_input = \"저도 뭐가 문제인지 모르겠어요\"\n",
        "\n",
        "completion = client.chat.completions.create(\n",
        "    model=model_id,\n",
        "    messages=[\n",
        "        {\"role\": \"system\", \"content\": \"당신은 정서적으로 심리가 불안한 사용자를 위로해주는 심리 상담 챗봇입니다. 성심성의껏 상담해주세요.\"},\n",
        "        {\"role\": \"user\", \"content\": \"요즘 혼자인 것 같아서 외로워요\"},\n",
        "        {\"role\": \"assistant\", \"content\": \"혼자 있는 것 같아서 외로움을 느끼신다는 건, 친구나 가족과의 소통 부족으로 인해 자기감정을 충족시키지 못하고 있다는 것을 의미합니다. 내담자님이 외로움을 느끼는 이유에 대해 좀 더 말씀해주실 수 있을까요?\"},\n",
        "        {\"role\": \"user\", \"content\": user_input}\n",
        "    ]\n",
        ")\n",
        "print(completion.choices[0].message.content)"
      ],
      "metadata": {
        "colab": {
          "base_uri": "https://localhost:8080/"
        },
        "id": "gluIOV7zslyJ",
        "outputId": "a964ac35-e7b4-48ff-c533-7ceaa508f745"
      },
      "execution_count": null,
      "outputs": [
        {
          "output_type": "stream",
          "name": "stdout",
          "text": [
            "이왕 상담을 받으러 오셨으니, 이번 기회에 내담자님이 외로워하는 이유를 찾아보는 것도 좋을 것 같아요. 일단 내담자님이 외로움을 느끼는 시기와 상황, 그리고 그 원인을 생각해보세요. 무엇 때문에, 어떤 상황에서, 어떤 사람과 함께하고 싶은지 그리고 그에 대한 해결책을 함께 생각해볼까요?\n"
          ]
        }
      ]
    },
    {
      "cell_type": "markdown",
      "source": [
        "아래 코드를 실행하면 다음과 같은 출력 결과가 나옵니다.  \n",
        "\n",
        "```\n",
        "Colab notebook detected. This cell will run indefinitely so that you can see errors and logs. To turn off, set debug=False in launch().\n",
        "Running on public URL: https://55d28d38daeaef5db9.gradio.live\n",
        "\n",
        "This share link expires in 72 hours. For free permanent hosting and GPU upgrades, run `gradio deploy` from Terminal to deploy to Spaces (https://huggingface.co/spaces)\n",
        "```"
      ],
      "metadata": {
        "id": "-HzTIISgulfJ"
      }
    },
    {
      "cell_type": "markdown",
      "source": [
        "여기서 Running on public URL에 해당하는 주소를 들어가면 실제 Chatbot UI에서 챗봇 대화를 진행할 수 있습니다."
      ],
      "metadata": {
        "id": "-sefCCYkupUC"
      }
    },
    {
      "cell_type": "code",
      "source": [
        "import gradio as gr\n",
        "\n",
        "def predict(input, history):\n",
        "    history.append({\"role\": \"user\", \"content\": input})\n",
        "\n",
        "    gpt_response = client.chat.completions.create(\n",
        "        model=model_id,\n",
        "        messages=history\n",
        "    )\n",
        "\n",
        "    response = gpt_response.choices[0].message.content\n",
        "\n",
        "    history.append({\"role\": \"assistant\", \"content\": response})\n",
        "\n",
        "    messages = [(history[i][\"content\"], history[i+1][\"content\"]) for i in range(1, len(history), 2)]\n",
        "\n",
        "    return messages, history\n",
        "\n",
        "\n",
        "with gr.Blocks() as demo:\n",
        "    chatbot = gr.Chatbot(label=\"ChatBot\")\n",
        "\n",
        "    state = gr.State([{\n",
        "        \"role\": \"system\",\n",
        "        \"content\": \"당신은 정서적으로 심리가 불안한 사용자를 위로해주는 심리 상담 챗봇입니다. 성심성의껏 상담해주세요.\"\n",
        "    }])\n",
        "\n",
        "    with gr.Row():\n",
        "        txt = gr.Textbox(show_label=False, placeholder=\"심리 상담 챗봇에게 심리 상담을 받아보세요.\")\n",
        "\n",
        "    txt.submit(predict, [txt, state], [chatbot, state])\n",
        "\n",
        "demo.launch(debug=True, share=True)"
      ],
      "metadata": {
        "colab": {
          "base_uri": "https://localhost:8080/",
          "height": 613
        },
        "id": "hRr5FX__tKCX",
        "outputId": "fb8697d2-fc6c-427e-b59d-33e958fbf796"
      },
      "execution_count": null,
      "outputs": [
        {
          "output_type": "stream",
          "name": "stdout",
          "text": [
            "Colab notebook detected. This cell will run indefinitely so that you can see errors and logs. To turn off, set debug=False in launch().\n",
            "Running on public URL: https://55d28d38daeaef5db9.gradio.live\n",
            "\n",
            "This share link expires in 72 hours. For free permanent hosting and GPU upgrades, run `gradio deploy` from Terminal to deploy to Spaces (https://huggingface.co/spaces)\n"
          ]
        },
        {
          "output_type": "display_data",
          "data": {
            "text/plain": [
              "<IPython.core.display.HTML object>"
            ],
            "text/html": [
              "<div><iframe src=\"https://55d28d38daeaef5db9.gradio.live\" width=\"100%\" height=\"500\" allow=\"autoplay; camera; microphone; clipboard-read; clipboard-write;\" frameborder=\"0\" allowfullscreen></iframe></div>"
            ]
          },
          "metadata": {}
        }
      ]
    },
    {
      "cell_type": "markdown",
      "source": [
        "다음은 실제 테스트 결과입니다."
      ],
      "metadata": {
        "id": "0liuBIv6uzZ9"
      }
    },
    {
      "cell_type": "markdown",
      "source": [
        "<img src=https://wikidocs.net/images/page/215361/%ED%95%99%EC%8A%B5%ED%9B%84%EB%AA%A8%EB%8D%B8.PNG width=300>"
      ],
      "metadata": {
        "id": "WQmynMNvzNIW"
      }
    }
  ]
}